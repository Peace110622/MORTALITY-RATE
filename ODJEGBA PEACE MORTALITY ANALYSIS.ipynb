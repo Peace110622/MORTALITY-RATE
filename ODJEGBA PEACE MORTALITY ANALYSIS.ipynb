{
 "cells": [
  {
   "cell_type": "markdown",
   "id": "0ab7e090-785d-4999-a146-5cfa59a6df1b",
   "metadata": {},
   "source": [
    "TITLE: ADDRESSING HIGH MORTALITY IN AFRICA: SOCIOECONOMIC, HEALTH CARE AND ENVIRONMENTAL INSIGHTS"
   ]
  },
  {
   "cell_type": "markdown",
   "id": "4c3a938a-a020-442c-8def-695b98c1a1e7",
   "metadata": {},
   "source": [
    "Goal: Identification of factors contributing to mortality and actionable insights for policy makers "
   ]
  },
  {
   "cell_type": "markdown",
   "id": "8800613a-9f90-4086-972b-7dc3adec2d3c",
   "metadata": {},
   "source": [
    "Introduction: \n",
    "Child and maternal mortality remain significant public health challenges worldwide, influenced by a complex interplay of socioeconomic, healthcare, and environmental factors. This project aims to analyze the health indicators, including vaccination coverage, healthcare access, and maternal support, to uncover key drivers of high mortality rates. By leveraging a comprehensive dataset spanning multiple countries, the analysis identifies gaps in vaccination coverage, healthcare systems, and maternal care that contribute to poor child survival outcomes.\n",
    "Furthermore, the project provides actionable recommendations to address these gaps and improve healthcare delivery. The insights are presented in a clear and accessible format, designed to inform policymakers, healthcare stakeholders, and development agencies, enabling data-driven interventions to reduce mortality rates in Africa.\n",
    "Here is the link to the dataset https://drive.google.com/file/d/1myW9sMtrkFT11kmtS8w5_Mwc_DlyWv6H/viewS"
   ]
  },
  {
   "cell_type": "code",
   "execution_count": 1,
   "id": "baa190c9-4367-4e1d-a1b5-185a9373a38e",
   "metadata": {},
   "outputs": [],
   "source": [
    "#import the necessary libraries which might be needed for analysis\n",
    "\n",
    "import pandas as pd\n",
    "import matplotlib.pyplot as plt\n",
    "import seaborn as sns\n",
    "import numpy as np\n",
    "\n",
    "#to display all of the columns clearly without anyone being broken or cut out\n",
    "pd.set_option('display.max_columns', None)"
   ]
  },
  {
   "cell_type": "markdown",
   "id": "7d7b03ec-be7b-4ebc-9526-e76205be26d6",
   "metadata": {},
   "source": [
    "DATA IMPORTATION, CLEANING AND PREPROCESSING"
   ]
  },
  {
   "cell_type": "markdown",
   "id": "d8077e89-dbf5-4a6c-ace9-24ba779ed47d",
   "metadata": {},
   "source": [
    "1. Health protection coverage dataset"
   ]
  },
  {
   "cell_type": "code",
   "execution_count": 2,
   "id": "6b954347-b454-454c-946d-f8b1b67dd839",
   "metadata": {},
   "outputs": [
    {
     "data": {
      "text/html": [
       "<div>\n",
       "<style scoped>\n",
       "    .dataframe tbody tr th:only-of-type {\n",
       "        vertical-align: middle;\n",
       "    }\n",
       "\n",
       "    .dataframe tbody tr th {\n",
       "        vertical-align: top;\n",
       "    }\n",
       "\n",
       "    .dataframe thead th {\n",
       "        text-align: right;\n",
       "    }\n",
       "</style>\n",
       "<table border=\"1\" class=\"dataframe\">\n",
       "  <thead>\n",
       "    <tr style=\"text-align: right;\">\n",
       "      <th></th>\n",
       "      <th>Entity</th>\n",
       "      <th>Code</th>\n",
       "      <th>Year</th>\n",
       "      <th>Share of population covered by health insurance (ILO (2014))</th>\n",
       "    </tr>\n",
       "  </thead>\n",
       "  <tbody>\n",
       "    <tr>\n",
       "      <th>0</th>\n",
       "      <td>Albania</td>\n",
       "      <td>ALB</td>\n",
       "      <td>2008</td>\n",
       "      <td>23.6</td>\n",
       "    </tr>\n",
       "    <tr>\n",
       "      <th>1</th>\n",
       "      <td>Algeria</td>\n",
       "      <td>DZA</td>\n",
       "      <td>2005</td>\n",
       "      <td>85.2</td>\n",
       "    </tr>\n",
       "  </tbody>\n",
       "</table>\n",
       "</div>"
      ],
      "text/plain": [
       "    Entity Code  Year  \\\n",
       "0  Albania  ALB  2008   \n",
       "1  Algeria  DZA  2005   \n",
       "\n",
       "   Share of population covered by health insurance (ILO (2014))  \n",
       "0                                               23.6             \n",
       "1                                               85.2             "
      ]
     },
     "execution_count": 2,
     "metadata": {},
     "output_type": "execute_result"
    }
   ],
   "source": [
    "#importing and reading the dataset\n",
    "df1 = pd.read_csv (r\"C:\\Users\\HP\\Downloads\\ALTSCHOOL\\Regonet Personal project\\Infant Mortality Dataset\\8. health-protection-coverage.csv\")\n",
    "df1.head(2)"
   ]
  },
  {
   "cell_type": "code",
   "execution_count": 3,
   "id": "8b094a43-f178-4e2a-bc85-927771e2d57f",
   "metadata": {},
   "outputs": [
    {
     "data": {
      "text/plain": [
       "(162, 4)"
      ]
     },
     "execution_count": 3,
     "metadata": {},
     "output_type": "execute_result"
    }
   ],
   "source": [
    "#checking for the shape\n",
    "df1.shape"
   ]
  },
  {
   "cell_type": "code",
   "execution_count": 4,
   "id": "b615e558-54f8-4fc3-9355-9b4955c47b3f",
   "metadata": {},
   "outputs": [
    {
     "data": {
      "text/plain": [
       "Index(['Entity', 'Year',\n",
       "       'Share of population covered by health insurance (ILO (2014))'],\n",
       "      dtype='object')"
      ]
     },
     "execution_count": 4,
     "metadata": {},
     "output_type": "execute_result"
    }
   ],
   "source": [
    "#dropping the code column\n",
    "df1.drop(columns = [\"Code\"], inplace = True)\n",
    "df1.columns"
   ]
  },
  {
   "cell_type": "code",
   "execution_count": 5,
   "id": "ebb94ee0-a3d2-42d7-85a6-279fbab2cea3",
   "metadata": {},
   "outputs": [
    {
     "data": {
      "text/plain": [
       "Entity                                                          0\n",
       "Year                                                            0\n",
       "Share of population covered by health insurance (ILO (2014))    0\n",
       "dtype: int64"
      ]
     },
     "execution_count": 5,
     "metadata": {},
     "output_type": "execute_result"
    }
   ],
   "source": [
    "#checking for the sum of null values for each column\n",
    "df1.isnull().sum()"
   ]
  },
  {
   "cell_type": "code",
   "execution_count": 6,
   "id": "93fc3675-2538-4086-bdfc-14519c25d62d",
   "metadata": {},
   "outputs": [
    {
     "data": {
      "text/plain": [
       "0"
      ]
     },
     "execution_count": 6,
     "metadata": {},
     "output_type": "execute_result"
    }
   ],
   "source": [
    "#checking for duplicate values\n",
    "df1.duplicated().sum()"
   ]
  },
  {
   "cell_type": "code",
   "execution_count": 7,
   "id": "4c94d978-08bd-49ff-bce8-a83a344981ad",
   "metadata": {},
   "outputs": [],
   "source": [
    "#renaming of column\n",
    "df1.rename(columns = {\"Entity\" : \"Location\"}, inplace = True)"
   ]
  },
  {
   "cell_type": "code",
   "execution_count": 8,
   "id": "d76ed098-a294-4358-b902-46c8558c9d87",
   "metadata": {},
   "outputs": [
    {
     "data": {
      "text/plain": [
       "Index(['Location', 'Year',\n",
       "       'Share of population covered by health insurance (ILO (2014))'],\n",
       "      dtype='object')"
      ]
     },
     "execution_count": 8,
     "metadata": {},
     "output_type": "execute_result"
    }
   ],
   "source": [
    "#checking for the columns to ensure replacement of the column name was successful\n",
    "df1.columns"
   ]
  },
  {
   "cell_type": "markdown",
   "id": "6265e18f-ec5d-4672-ae67-df0315b3ac66",
   "metadata": {},
   "source": [
    "2. Global vaccination coverage data"
   ]
  },
  {
   "cell_type": "code",
   "execution_count": 9,
   "id": "d0a5b022-2de3-4234-9af4-21413c06e948",
   "metadata": {},
   "outputs": [
    {
     "data": {
      "text/html": [
       "<div>\n",
       "<style scoped>\n",
       "    .dataframe tbody tr th:only-of-type {\n",
       "        vertical-align: middle;\n",
       "    }\n",
       "\n",
       "    .dataframe tbody tr th {\n",
       "        vertical-align: top;\n",
       "    }\n",
       "\n",
       "    .dataframe thead th {\n",
       "        text-align: right;\n",
       "    }\n",
       "</style>\n",
       "<table border=\"1\" class=\"dataframe\">\n",
       "  <thead>\n",
       "    <tr style=\"text-align: right;\">\n",
       "      <th></th>\n",
       "      <th>Entity</th>\n",
       "      <th>Code</th>\n",
       "      <th>Year</th>\n",
       "      <th>BCG (% of one-year-olds immunized)</th>\n",
       "      <th>HepB3 (% of one-year-olds immunized)</th>\n",
       "      <th>Hib3 (% of one-year-olds immunized)</th>\n",
       "      <th>IPV1 (% of one-year-olds immunized)</th>\n",
       "      <th>MCV1 (% of one-year-olds immunized)</th>\n",
       "      <th>PCV3 (% of one-year-olds immunized)</th>\n",
       "      <th>Pol3 (% of one-year-olds immunized)</th>\n",
       "      <th>RCV1 (% of one-year-olds immunized)</th>\n",
       "      <th>RotaC (% of one-year-olds immunized)</th>\n",
       "      <th>YFV (% of one-year-olds immunized)</th>\n",
       "      <th>DTP3 (% of one-year-olds immunized)</th>\n",
       "    </tr>\n",
       "  </thead>\n",
       "  <tbody>\n",
       "    <tr>\n",
       "      <th>0</th>\n",
       "      <td>Afghanistan</td>\n",
       "      <td>AFG</td>\n",
       "      <td>1982</td>\n",
       "      <td>10.0</td>\n",
       "      <td>NaN</td>\n",
       "      <td>NaN</td>\n",
       "      <td>NaN</td>\n",
       "      <td>8.0</td>\n",
       "      <td>NaN</td>\n",
       "      <td>5.0</td>\n",
       "      <td>NaN</td>\n",
       "      <td>NaN</td>\n",
       "      <td>NaN</td>\n",
       "      <td>5.0</td>\n",
       "    </tr>\n",
       "    <tr>\n",
       "      <th>1</th>\n",
       "      <td>Afghanistan</td>\n",
       "      <td>AFG</td>\n",
       "      <td>1983</td>\n",
       "      <td>10.0</td>\n",
       "      <td>NaN</td>\n",
       "      <td>NaN</td>\n",
       "      <td>NaN</td>\n",
       "      <td>9.0</td>\n",
       "      <td>NaN</td>\n",
       "      <td>5.0</td>\n",
       "      <td>NaN</td>\n",
       "      <td>NaN</td>\n",
       "      <td>NaN</td>\n",
       "      <td>5.0</td>\n",
       "    </tr>\n",
       "  </tbody>\n",
       "</table>\n",
       "</div>"
      ],
      "text/plain": [
       "        Entity Code  Year  BCG (% of one-year-olds immunized)  \\\n",
       "0  Afghanistan  AFG  1982                                10.0   \n",
       "1  Afghanistan  AFG  1983                                10.0   \n",
       "\n",
       "   HepB3 (% of one-year-olds immunized)  Hib3 (% of one-year-olds immunized)  \\\n",
       "0                                   NaN                                  NaN   \n",
       "1                                   NaN                                  NaN   \n",
       "\n",
       "   IPV1 (% of one-year-olds immunized)  MCV1 (% of one-year-olds immunized)  \\\n",
       "0                                  NaN                                  8.0   \n",
       "1                                  NaN                                  9.0   \n",
       "\n",
       "   PCV3 (% of one-year-olds immunized)  Pol3 (% of one-year-olds immunized)  \\\n",
       "0                                  NaN                                  5.0   \n",
       "1                                  NaN                                  5.0   \n",
       "\n",
       "   RCV1 (% of one-year-olds immunized)  RotaC (% of one-year-olds immunized)  \\\n",
       "0                                  NaN                                   NaN   \n",
       "1                                  NaN                                   NaN   \n",
       "\n",
       "   YFV (% of one-year-olds immunized)  DTP3 (% of one-year-olds immunized)  \n",
       "0                                 NaN                                  5.0  \n",
       "1                                 NaN                                  5.0  "
      ]
     },
     "execution_count": 9,
     "metadata": {},
     "output_type": "execute_result"
    }
   ],
   "source": [
    "#importing and reading of the data\n",
    "df2 = pd.read_csv (r\"C:\\Users\\HP\\Downloads\\ALTSCHOOL\\Regonet Personal project\\Infant Mortality Dataset\\7. global-vaccination-coverage.csv\")\n",
    "df2.head(2)"
   ]
  },
  {
   "cell_type": "code",
   "execution_count": 10,
   "id": "afd0f274-ae24-458f-b36a-cd5ad075dfad",
   "metadata": {},
   "outputs": [
    {
     "data": {
      "text/plain": [
       "(7897, 14)"
      ]
     },
     "execution_count": 10,
     "metadata": {},
     "output_type": "execute_result"
    }
   ],
   "source": [
    "#checking for the shape of the dataset\n",
    "df2.shape"
   ]
  },
  {
   "cell_type": "code",
   "execution_count": 11,
   "id": "40f14df0-2c9d-4768-95ae-47534306564e",
   "metadata": {},
   "outputs": [
    {
     "data": {
      "text/plain": [
       "Index(['Entity', 'Year', 'BCG (% of one-year-olds immunized)',\n",
       "       'HepB3 (% of one-year-olds immunized)',\n",
       "       'MCV1 (% of one-year-olds immunized)',\n",
       "       'Pol3 (% of one-year-olds immunized)',\n",
       "       'DTP3 (% of one-year-olds immunized)'],\n",
       "      dtype='object')"
      ]
     },
     "execution_count": 11,
     "metadata": {},
     "output_type": "execute_result"
    }
   ],
   "source": [
    "drop_columns = [\"Code\", 'Hib3 (% of one-year-olds immunized)',\n",
    "               'IPV1 (% of one-year-olds immunized)',\n",
    "               'PCV3 (% of one-year-olds immunized)',\n",
    "               'RCV1 (% of one-year-olds immunized)',\n",
    "               'RotaC (% of one-year-olds immunized)',\n",
    "               'YFV (% of one-year-olds immunized)']\n",
    "df2.drop(columns = drop_columns, inplace = True)\n",
    "df2.columns"
   ]
  },
  {
   "cell_type": "code",
   "execution_count": 12,
   "id": "1c07d457-36ab-41e6-a053-d03caad89808",
   "metadata": {},
   "outputs": [
    {
     "data": {
      "text/plain": [
       "Entity                                     0\n",
       "Year                                       0\n",
       "BCG (% of one-year-olds immunized)      1400\n",
       "HepB3 (% of one-year-olds immunized)    3461\n",
       "MCV1 (% of one-year-olds immunized)      169\n",
       "Pol3 (% of one-year-olds immunized)       42\n",
       "DTP3 (% of one-year-olds immunized)       43\n",
       "dtype: int64"
      ]
     },
     "execution_count": 12,
     "metadata": {},
     "output_type": "execute_result"
    }
   ],
   "source": [
    "#checking for missing values\n",
    "df2.isnull().sum()"
   ]
  },
  {
   "cell_type": "code",
   "execution_count": 13,
   "id": "a57662f7-4f68-4e85-ba75-b15b0b69c6f6",
   "metadata": {},
   "outputs": [
    {
     "name": "stdout",
     "output_type": "stream",
     "text": [
      "        Entity  Year  BCG (% of one-year-olds immunized)  \\\n",
      "0  Afghanistan  1982                                10.0   \n",
      "1  Afghanistan  1983                                10.0   \n",
      "\n",
      "   HepB3 (% of one-year-olds immunized)  MCV1 (% of one-year-olds immunized)  \\\n",
      "0                                  91.0                                  8.0   \n",
      "1                                  91.0                                  9.0   \n",
      "\n",
      "   Pol3 (% of one-year-olds immunized)  DTP3 (% of one-year-olds immunized)  \n",
      "0                                  5.0                                  5.0  \n",
      "1                                  5.0                                  5.0  \n"
     ]
    }
   ],
   "source": [
    "#replacing all the numeric missing values using the median of each column \n",
    "#assigning a variable name to the columns i would like to fill\n",
    "fill_columns = ['BCG (% of one-year-olds immunized)',\n",
    "                'HepB3 (% of one-year-olds immunized)',\n",
    "                'MCV1 (% of one-year-olds immunized)',\n",
    "                'Pol3 (% of one-year-olds immunized)',\n",
    "                'DTP3 (% of one-year-olds immunized)']\n",
    "#filling the columns with the median values\n",
    "df2[fill_columns] = df2[fill_columns].fillna(df2[fill_columns].median())\n",
    "print(df2.head(2))"
   ]
  },
  {
   "cell_type": "code",
   "execution_count": 14,
   "id": "dfc20065-1323-4098-813d-486eb21424d5",
   "metadata": {},
   "outputs": [
    {
     "data": {
      "text/html": [
       "<div>\n",
       "<style scoped>\n",
       "    .dataframe tbody tr th:only-of-type {\n",
       "        vertical-align: middle;\n",
       "    }\n",
       "\n",
       "    .dataframe tbody tr th {\n",
       "        vertical-align: top;\n",
       "    }\n",
       "\n",
       "    .dataframe thead th {\n",
       "        text-align: right;\n",
       "    }\n",
       "</style>\n",
       "<table border=\"1\" class=\"dataframe\">\n",
       "  <thead>\n",
       "    <tr style=\"text-align: right;\">\n",
       "      <th></th>\n",
       "      <th>Entity</th>\n",
       "      <th>Year</th>\n",
       "      <th>BCG (% of one-year-olds immunized)</th>\n",
       "      <th>HepB3 (% of one-year-olds immunized)</th>\n",
       "      <th>MCV1 (% of one-year-olds immunized)</th>\n",
       "      <th>Pol3 (% of one-year-olds immunized)</th>\n",
       "      <th>DTP3 (% of one-year-olds immunized)</th>\n",
       "    </tr>\n",
       "  </thead>\n",
       "  <tbody>\n",
       "    <tr>\n",
       "      <th>0</th>\n",
       "      <td>Afghanistan</td>\n",
       "      <td>1982</td>\n",
       "      <td>10.0</td>\n",
       "      <td>91.0</td>\n",
       "      <td>8.0</td>\n",
       "      <td>5.0</td>\n",
       "      <td>5.0</td>\n",
       "    </tr>\n",
       "    <tr>\n",
       "      <th>1</th>\n",
       "      <td>Afghanistan</td>\n",
       "      <td>1983</td>\n",
       "      <td>10.0</td>\n",
       "      <td>91.0</td>\n",
       "      <td>9.0</td>\n",
       "      <td>5.0</td>\n",
       "      <td>5.0</td>\n",
       "    </tr>\n",
       "  </tbody>\n",
       "</table>\n",
       "</div>"
      ],
      "text/plain": [
       "        Entity  Year  BCG (% of one-year-olds immunized)  \\\n",
       "0  Afghanistan  1982                                10.0   \n",
       "1  Afghanistan  1983                                10.0   \n",
       "\n",
       "   HepB3 (% of one-year-olds immunized)  MCV1 (% of one-year-olds immunized)  \\\n",
       "0                                  91.0                                  8.0   \n",
       "1                                  91.0                                  9.0   \n",
       "\n",
       "   Pol3 (% of one-year-olds immunized)  DTP3 (% of one-year-olds immunized)  \n",
       "0                                  5.0                                  5.0  \n",
       "1                                  5.0                                  5.0  "
      ]
     },
     "execution_count": 14,
     "metadata": {},
     "output_type": "execute_result"
    }
   ],
   "source": [
    "#to be sure the columns have been filled with the median values and there are no more missing values\n",
    "df2.head(2)"
   ]
  },
  {
   "cell_type": "code",
   "execution_count": 15,
   "id": "8ad80012-4fbc-42a0-9459-25ebd6b090e2",
   "metadata": {},
   "outputs": [
    {
     "data": {
      "text/plain": [
       "0"
      ]
     },
     "execution_count": 15,
     "metadata": {},
     "output_type": "execute_result"
    }
   ],
   "source": [
    "#checking for duplicate values\n",
    "df2.duplicated().sum()"
   ]
  },
  {
   "cell_type": "code",
   "execution_count": 16,
   "id": "4147e8ec-8977-4535-b020-06b867a70768",
   "metadata": {},
   "outputs": [],
   "source": [
    "#renaming of column\n",
    "df2.rename(columns = {\"Entity\" : \"Location\"}, inplace = True)"
   ]
  },
  {
   "cell_type": "code",
   "execution_count": 17,
   "id": "874de9d0-2197-40e0-865a-a20b71bb38c4",
   "metadata": {},
   "outputs": [
    {
     "data": {
      "text/plain": [
       "Index(['Location', 'Year', 'BCG (% of one-year-olds immunized)',\n",
       "       'HepB3 (% of one-year-olds immunized)',\n",
       "       'MCV1 (% of one-year-olds immunized)',\n",
       "       'Pol3 (% of one-year-olds immunized)',\n",
       "       'DTP3 (% of one-year-olds immunized)'],\n",
       "      dtype='object')"
      ]
     },
     "execution_count": 17,
     "metadata": {},
     "output_type": "execute_result"
    }
   ],
   "source": [
    "#checking the column name to be sure the replacement was successful\n",
    "df2.columns"
   ]
  },
  {
   "cell_type": "markdown",
   "id": "63c2fba1-ccb8-4ad9-a07d-c6f8780b006d",
   "metadata": {},
   "source": [
    "3. Births attended by health staff data"
   ]
  },
  {
   "cell_type": "code",
   "execution_count": 18,
   "id": "c26a0d3e-fe56-44fb-a3f0-5f82bba8d771",
   "metadata": {},
   "outputs": [
    {
     "data": {
      "text/html": [
       "<div>\n",
       "<style scoped>\n",
       "    .dataframe tbody tr th:only-of-type {\n",
       "        vertical-align: middle;\n",
       "    }\n",
       "\n",
       "    .dataframe tbody tr th {\n",
       "        vertical-align: top;\n",
       "    }\n",
       "\n",
       "    .dataframe thead th {\n",
       "        text-align: right;\n",
       "    }\n",
       "</style>\n",
       "<table border=\"1\" class=\"dataframe\">\n",
       "  <thead>\n",
       "    <tr style=\"text-align: right;\">\n",
       "      <th></th>\n",
       "      <th>Entity</th>\n",
       "      <th>Code</th>\n",
       "      <th>Year</th>\n",
       "      <th>Births attended by skilled health staff (% of total)</th>\n",
       "    </tr>\n",
       "  </thead>\n",
       "  <tbody>\n",
       "    <tr>\n",
       "      <th>0</th>\n",
       "      <td>Afghanistan</td>\n",
       "      <td>AFG</td>\n",
       "      <td>2000</td>\n",
       "      <td>12.4</td>\n",
       "    </tr>\n",
       "    <tr>\n",
       "      <th>1</th>\n",
       "      <td>Afghanistan</td>\n",
       "      <td>AFG</td>\n",
       "      <td>2003</td>\n",
       "      <td>14.3</td>\n",
       "    </tr>\n",
       "  </tbody>\n",
       "</table>\n",
       "</div>"
      ],
      "text/plain": [
       "        Entity Code  Year  \\\n",
       "0  Afghanistan  AFG  2000   \n",
       "1  Afghanistan  AFG  2003   \n",
       "\n",
       "   Births attended by skilled health staff (% of total)  \n",
       "0                                               12.4     \n",
       "1                                               14.3     "
      ]
     },
     "execution_count": 18,
     "metadata": {},
     "output_type": "execute_result"
    }
   ],
   "source": [
    "#importing and reading of the dataset\n",
    "df3 = pd.read_csv (r\"C:\\Users\\HP\\Downloads\\ALTSCHOOL\\Regonet Personal project\\Infant Mortality Dataset\\6. births-attended-by-health-staff-sdgs.csv\")\n",
    "df3.head(2)"
   ]
  },
  {
   "cell_type": "code",
   "execution_count": 19,
   "id": "0dc3df65-10d0-472e-b2fc-7827b238e36d",
   "metadata": {},
   "outputs": [
    {
     "data": {
      "text/plain": [
       "Index(['Entity', 'Year',\n",
       "       'Births attended by skilled health staff (% of total)'],\n",
       "      dtype='object')"
      ]
     },
     "execution_count": 19,
     "metadata": {},
     "output_type": "execute_result"
    }
   ],
   "source": [
    "#dropping the row column\n",
    "df3.drop(columns = [\"Code\"], inplace = True)\n",
    "#to confirm if the column has been successfully dropped\n",
    "df3.columns"
   ]
  },
  {
   "cell_type": "code",
   "execution_count": 20,
   "id": "5373f9ef-f81b-44cf-a808-c1d5b4d462e4",
   "metadata": {},
   "outputs": [
    {
     "data": {
      "text/plain": [
       "Entity                                                  0\n",
       "Year                                                    0\n",
       "Births attended by skilled health staff (% of total)    0\n",
       "dtype: int64"
      ]
     },
     "execution_count": 20,
     "metadata": {},
     "output_type": "execute_result"
    }
   ],
   "source": [
    "#checking for missing values\n",
    "df3.isnull().sum()"
   ]
  },
  {
   "cell_type": "code",
   "execution_count": 21,
   "id": "cfacae50-a010-4fec-945e-0fbce6440a7f",
   "metadata": {},
   "outputs": [
    {
     "data": {
      "text/plain": [
       "(2985, 3)"
      ]
     },
     "execution_count": 21,
     "metadata": {},
     "output_type": "execute_result"
    }
   ],
   "source": [
    "#checking for the shape\n",
    "df3.shape"
   ]
  },
  {
   "cell_type": "code",
   "execution_count": 22,
   "id": "e29f4ea1-3e92-4ea3-9d90-6f3510d26a1d",
   "metadata": {},
   "outputs": [
    {
     "data": {
      "text/plain": [
       "0"
      ]
     },
     "execution_count": 22,
     "metadata": {},
     "output_type": "execute_result"
    }
   ],
   "source": [
    "#checking for duplicate values\n",
    "df3.duplicated().sum()"
   ]
  },
  {
   "cell_type": "code",
   "execution_count": 23,
   "id": "204dfbcb-0e50-4fbb-9906-cb2f084c87c3",
   "metadata": {},
   "outputs": [],
   "source": [
    "#renaming of column\n",
    "df3.rename(columns = {\"Entity\" : \"Location\"}, inplace = True)"
   ]
  },
  {
   "cell_type": "code",
   "execution_count": 24,
   "id": "1a8d826f-ee77-4820-b75c-deb1c2757b8d",
   "metadata": {},
   "outputs": [
    {
     "data": {
      "text/plain": [
       "Index(['Location', 'Year',\n",
       "       'Births attended by skilled health staff (% of total)'],\n",
       "      dtype='object')"
      ]
     },
     "execution_count": 24,
     "metadata": {},
     "output_type": "execute_result"
    }
   ],
   "source": [
    "#checking for the columns to be sure the rename was successful\n",
    "df3.columns"
   ]
  },
  {
   "cell_type": "markdown",
   "id": "892fea41-7af2-4f2d-99e9-7ad997293008",
   "metadata": {},
   "source": [
    "4. Number of maternal deaths by region"
   ]
  },
  {
   "cell_type": "code",
   "execution_count": 25,
   "id": "fec99512-e346-47d2-b293-1ff419d27db9",
   "metadata": {},
   "outputs": [
    {
     "data": {
      "text/html": [
       "<div>\n",
       "<style scoped>\n",
       "    .dataframe tbody tr th:only-of-type {\n",
       "        vertical-align: middle;\n",
       "    }\n",
       "\n",
       "    .dataframe tbody tr th {\n",
       "        vertical-align: top;\n",
       "    }\n",
       "\n",
       "    .dataframe thead th {\n",
       "        text-align: right;\n",
       "    }\n",
       "</style>\n",
       "<table border=\"1\" class=\"dataframe\">\n",
       "  <thead>\n",
       "    <tr style=\"text-align: right;\">\n",
       "      <th></th>\n",
       "      <th>Entity</th>\n",
       "      <th>Code</th>\n",
       "      <th>Year</th>\n",
       "      <th>Estimated maternal deaths</th>\n",
       "      <th>959828-annotations</th>\n",
       "    </tr>\n",
       "  </thead>\n",
       "  <tbody>\n",
       "    <tr>\n",
       "      <th>0</th>\n",
       "      <td>Afghanistan</td>\n",
       "      <td>AFG</td>\n",
       "      <td>1985</td>\n",
       "      <td>10258.534</td>\n",
       "      <td>NaN</td>\n",
       "    </tr>\n",
       "    <tr>\n",
       "      <th>1</th>\n",
       "      <td>Afghanistan</td>\n",
       "      <td>AFG</td>\n",
       "      <td>1986</td>\n",
       "      <td>8671.921</td>\n",
       "      <td>NaN</td>\n",
       "    </tr>\n",
       "  </tbody>\n",
       "</table>\n",
       "</div>"
      ],
      "text/plain": [
       "        Entity Code  Year  Estimated maternal deaths 959828-annotations\n",
       "0  Afghanistan  AFG  1985                  10258.534                NaN\n",
       "1  Afghanistan  AFG  1986                   8671.921                NaN"
      ]
     },
     "execution_count": 25,
     "metadata": {},
     "output_type": "execute_result"
    }
   ],
   "source": [
    "#importing and reading of the dataset\n",
    "df4 = pd.read_csv (r\"C:\\Users\\HP\\Downloads\\ALTSCHOOL\\Regonet Personal project\\Infant Mortality Dataset\\5. number-of-maternal-deaths-by-region.csv\")\n",
    "df4.head(2)"
   ]
  },
  {
   "cell_type": "code",
   "execution_count": 26,
   "id": "cec4c917-3c89-4dd7-b74c-1651bcd51032",
   "metadata": {},
   "outputs": [
    {
     "data": {
      "text/plain": [
       "(7056, 5)"
      ]
     },
     "execution_count": 26,
     "metadata": {},
     "output_type": "execute_result"
    }
   ],
   "source": [
    "#checking for the shape of the dataset\n",
    "df4.shape"
   ]
  },
  {
   "cell_type": "code",
   "execution_count": 27,
   "id": "13430076-1cd4-4465-8a6d-0c8253b096c2",
   "metadata": {},
   "outputs": [
    {
     "data": {
      "text/plain": [
       "Entity                          0\n",
       "Code                          360\n",
       "Year                            0\n",
       "Estimated maternal deaths       0\n",
       "959828-annotations           7020\n",
       "dtype: int64"
      ]
     },
     "execution_count": 27,
     "metadata": {},
     "output_type": "execute_result"
    }
   ],
   "source": [
    "#checking for the sum of all null values in the dataset\n",
    "df4.isnull().sum()"
   ]
  },
  {
   "cell_type": "code",
   "execution_count": 28,
   "id": "5d257832-8464-4b08-8063-f785d4a5f54f",
   "metadata": {},
   "outputs": [
    {
     "data": {
      "text/plain": [
       "Index(['Entity', 'Year', 'Estimated maternal deaths'], dtype='object')"
      ]
     },
     "execution_count": 28,
     "metadata": {},
     "output_type": "execute_result"
    }
   ],
   "source": [
    "#dropping the code and 959828-annotations column\n",
    "df4.drop(columns = [\"Code\", \"959828-annotations\"], inplace = True)\n",
    "df4.columns"
   ]
  },
  {
   "cell_type": "code",
   "execution_count": 29,
   "id": "84f354ce-a0bd-419d-a51d-25764b2f0a68",
   "metadata": {},
   "outputs": [
    {
     "data": {
      "text/plain": [
       "Index(['Location', 'Year', 'Estimated maternal deaths'], dtype='object')"
      ]
     },
     "execution_count": 29,
     "metadata": {},
     "output_type": "execute_result"
    }
   ],
   "source": [
    "#renaming the entity column\n",
    "df4.rename(columns = {\"Entity\" : \"Location\"}, inplace = True)\n",
    "df4.columns"
   ]
  },
  {
   "cell_type": "code",
   "execution_count": 30,
   "id": "6d9d0d06-bd70-476e-b443-3d0c82270ff8",
   "metadata": {},
   "outputs": [
    {
     "data": {
      "text/plain": [
       "Location                     0\n",
       "Year                         0\n",
       "Estimated maternal deaths    0\n",
       "dtype: int64"
      ]
     },
     "execution_count": 30,
     "metadata": {},
     "output_type": "execute_result"
    }
   ],
   "source": [
    "#checking for missing values\n",
    "df4.isnull().sum()"
   ]
  },
  {
   "cell_type": "code",
   "execution_count": 31,
   "id": "9d9caa2f-4665-4c6c-9259-7001d84b6e05",
   "metadata": {},
   "outputs": [
    {
     "data": {
      "text/plain": [
       "0"
      ]
     },
     "execution_count": 31,
     "metadata": {},
     "output_type": "execute_result"
    }
   ],
   "source": [
    "#checking for duplicate values\n",
    "df4.duplicated().sum()"
   ]
  },
  {
   "cell_type": "markdown",
   "id": "954a6210-e49f-4a43-a055-7ebc59bd44b5",
   "metadata": {},
   "source": [
    "5. Child mortality by income level of country"
   ]
  },
  {
   "cell_type": "code",
   "execution_count": 32,
   "id": "9d0c3c6a-4d20-426c-81f7-0c29deaeb8da",
   "metadata": {},
   "outputs": [
    {
     "data": {
      "text/html": [
       "<div>\n",
       "<style scoped>\n",
       "    .dataframe tbody tr th:only-of-type {\n",
       "        vertical-align: middle;\n",
       "    }\n",
       "\n",
       "    .dataframe tbody tr th {\n",
       "        vertical-align: top;\n",
       "    }\n",
       "\n",
       "    .dataframe thead th {\n",
       "        text-align: right;\n",
       "    }\n",
       "</style>\n",
       "<table border=\"1\" class=\"dataframe\">\n",
       "  <thead>\n",
       "    <tr style=\"text-align: right;\">\n",
       "      <th></th>\n",
       "      <th>Entity</th>\n",
       "      <th>Code</th>\n",
       "      <th>Year</th>\n",
       "      <th>Observation value - Indicator: Under-five mortality rate - Sex: Total - Wealth quintile: Total - Unit of measure: Deaths per 100 live births</th>\n",
       "    </tr>\n",
       "  </thead>\n",
       "  <tbody>\n",
       "    <tr>\n",
       "      <th>0</th>\n",
       "      <td>Afghanistan</td>\n",
       "      <td>AFG</td>\n",
       "      <td>1957</td>\n",
       "      <td>37.245758</td>\n",
       "    </tr>\n",
       "    <tr>\n",
       "      <th>1</th>\n",
       "      <td>Afghanistan</td>\n",
       "      <td>AFG</td>\n",
       "      <td>1958</td>\n",
       "      <td>36.626625</td>\n",
       "    </tr>\n",
       "  </tbody>\n",
       "</table>\n",
       "</div>"
      ],
      "text/plain": [
       "        Entity Code  Year  \\\n",
       "0  Afghanistan  AFG  1957   \n",
       "1  Afghanistan  AFG  1958   \n",
       "\n",
       "   Observation value - Indicator: Under-five mortality rate - Sex: Total - Wealth quintile: Total - Unit of measure: Deaths per 100 live births  \n",
       "0                                          37.245758                                                                                             \n",
       "1                                          36.626625                                                                                             "
      ]
     },
     "execution_count": 32,
     "metadata": {},
     "output_type": "execute_result"
    }
   ],
   "source": [
    "#importing and reading of the dataset\n",
    "df5 = pd.read_csv(r\"C:\\Users\\HP\\Downloads\\ALTSCHOOL\\Regonet Personal project\\Infant Mortality Dataset\\3. child-mortality-by-income-level-of-country.csv\")\n",
    "df5.head(2)"
   ]
  },
  {
   "cell_type": "code",
   "execution_count": 33,
   "id": "008918d7-c862-487d-8bfa-5285e24fc11a",
   "metadata": {},
   "outputs": [
    {
     "data": {
      "text/plain": [
       "Entity                                                                                                                                             0\n",
       "Code                                                                                                                                            1358\n",
       "Year                                                                                                                                               0\n",
       "Observation value - Indicator: Under-five mortality rate - Sex: Total - Wealth quintile: Total - Unit of measure: Deaths per 100 live births       0\n",
       "dtype: int64"
      ]
     },
     "execution_count": 33,
     "metadata": {},
     "output_type": "execute_result"
    }
   ],
   "source": [
    "#checking for missing values in each of the columns\n",
    "df5.isnull().sum()"
   ]
  },
  {
   "cell_type": "code",
   "execution_count": 34,
   "id": "8e338c9e-3966-4b4d-8a6e-5a77d9b00567",
   "metadata": {},
   "outputs": [
    {
     "data": {
      "text/plain": [
       "Index(['Entity', 'Year',\n",
       "       'Observation value - Indicator: Under-five mortality rate - Sex: Total - Wealth quintile: Total - Unit of measure: Deaths per 100 live births'],\n",
       "      dtype='object')"
      ]
     },
     "execution_count": 34,
     "metadata": {},
     "output_type": "execute_result"
    }
   ],
   "source": [
    "#dropping the code column\n",
    "df5.drop(columns = [\"Code\"], inplace = True)\n",
    "df5.columns"
   ]
  },
  {
   "cell_type": "code",
   "execution_count": 35,
   "id": "0f401683-6ad9-4bfd-95b2-d1cd6962ba79",
   "metadata": {},
   "outputs": [
    {
     "data": {
      "text/plain": [
       "(14200, 3)"
      ]
     },
     "execution_count": 35,
     "metadata": {},
     "output_type": "execute_result"
    }
   ],
   "source": [
    "#checking for the shape of the dataset\n",
    "df5.shape"
   ]
  },
  {
   "cell_type": "code",
   "execution_count": 36,
   "id": "6f9a562e-4b1d-416c-a348-265eb441ee96",
   "metadata": {},
   "outputs": [
    {
     "data": {
      "text/plain": [
       "Index(['Location', 'Year', 'Under-five mortality rate (per 100 live births)'], dtype='object')"
      ]
     },
     "execution_count": 36,
     "metadata": {},
     "output_type": "execute_result"
    }
   ],
   "source": [
    "#renaming of the columns\n",
    "df5.rename(columns = {\"Observation value - Indicator: Under-five mortality rate - Sex: Total - Wealth quintile: Total - Unit of measure: Deaths per 100 live births\" :\n",
    "                      \"Under-five mortality rate (per 100 live births)\",\n",
    "                      \"Entity\" : \"Location\"}, inplace = True)\n",
    "df5.columns"
   ]
  },
  {
   "cell_type": "code",
   "execution_count": 37,
   "id": "cc024270-2c03-40c8-bf33-876ca7712cf7",
   "metadata": {},
   "outputs": [
    {
     "data": {
      "text/plain": [
       "0"
      ]
     },
     "execution_count": 37,
     "metadata": {},
     "output_type": "execute_result"
    }
   ],
   "source": [
    "#checking for duplicate values\n",
    "df5.duplicated().sum()"
   ]
  },
  {
   "cell_type": "markdown",
   "id": "dcf45be2-f0cd-4acb-81b1-2fb68532f751",
   "metadata": {},
   "source": [
    "6. Number of infants death"
   ]
  },
  {
   "cell_type": "code",
   "execution_count": 38,
   "id": "db219583-54d9-4fc4-ae2f-61f107096778",
   "metadata": {},
   "outputs": [
    {
     "data": {
      "text/html": [
       "<div>\n",
       "<style scoped>\n",
       "    .dataframe tbody tr th:only-of-type {\n",
       "        vertical-align: middle;\n",
       "    }\n",
       "\n",
       "    .dataframe tbody tr th {\n",
       "        vertical-align: top;\n",
       "    }\n",
       "\n",
       "    .dataframe thead th {\n",
       "        text-align: right;\n",
       "    }\n",
       "</style>\n",
       "<table border=\"1\" class=\"dataframe\">\n",
       "  <thead>\n",
       "    <tr style=\"text-align: right;\">\n",
       "      <th></th>\n",
       "      <th>Entity</th>\n",
       "      <th>Code</th>\n",
       "      <th>Year</th>\n",
       "      <th>Deaths - Sex: all - Age: 0 - Variant: estimates</th>\n",
       "    </tr>\n",
       "  </thead>\n",
       "  <tbody>\n",
       "    <tr>\n",
       "      <th>0</th>\n",
       "      <td>Afghanistan</td>\n",
       "      <td>AFG</td>\n",
       "      <td>1950</td>\n",
       "      <td>109220.0</td>\n",
       "    </tr>\n",
       "    <tr>\n",
       "      <th>1</th>\n",
       "      <td>Afghanistan</td>\n",
       "      <td>AFG</td>\n",
       "      <td>1951</td>\n",
       "      <td>107971.0</td>\n",
       "    </tr>\n",
       "  </tbody>\n",
       "</table>\n",
       "</div>"
      ],
      "text/plain": [
       "        Entity Code  Year  Deaths - Sex: all - Age: 0 - Variant: estimates\n",
       "0  Afghanistan  AFG  1950                                         109220.0\n",
       "1  Afghanistan  AFG  1951                                         107971.0"
      ]
     },
     "execution_count": 38,
     "metadata": {},
     "output_type": "execute_result"
    }
   ],
   "source": [
    "#importing and reading of the dataset\n",
    "df6 = pd.read_csv (r\"C:\\Users\\HP\\Downloads\\ALTSCHOOL\\Regonet Personal project\\Infant Mortality Dataset\\2. number-of-infant-deaths-unwpp.csv\")\n",
    "df6.head(2)"
   ]
  },
  {
   "cell_type": "code",
   "execution_count": 39,
   "id": "798d4b14-0c3c-43e0-b9bf-bdfe7dd2dea0",
   "metadata": {},
   "outputs": [
    {
     "data": {
      "text/plain": [
       "(18944, 4)"
      ]
     },
     "execution_count": 39,
     "metadata": {},
     "output_type": "execute_result"
    }
   ],
   "source": [
    "#checking for the shape of the dataset\n",
    "df6.shape"
   ]
  },
  {
   "cell_type": "code",
   "execution_count": 40,
   "id": "7277c4c0-ba42-4012-990d-3837847290f3",
   "metadata": {},
   "outputs": [
    {
     "data": {
      "text/plain": [
       "Index(['Entity', 'Year', 'Deaths - Sex: all - Age: 0 - Variant: estimates'], dtype='object')"
      ]
     },
     "execution_count": 40,
     "metadata": {},
     "output_type": "execute_result"
    }
   ],
   "source": [
    "#dropping the code column\n",
    "df6.drop(columns = [\"Code\"], inplace = True)\n",
    "df6.columns"
   ]
  },
  {
   "cell_type": "code",
   "execution_count": 41,
   "id": "f90721cf-e4db-4e13-a65f-ba63c7eec252",
   "metadata": {},
   "outputs": [
    {
     "data": {
      "text/plain": [
       "Index(['Location', 'Year', 'Total number of infants death (age 0) per year'], dtype='object')"
      ]
     },
     "execution_count": 41,
     "metadata": {},
     "output_type": "execute_result"
    }
   ],
   "source": [
    "#renaming some columns\n",
    "df6.rename(columns = {\"Deaths - Sex: all - Age: 0 - Variant: estimates\" : \"Total number of infants death (age 0) per year\",\n",
    "                     \"Entity\" : \"Location\",}, inplace = True)\n",
    "df6.columns"
   ]
  },
  {
   "cell_type": "code",
   "execution_count": 42,
   "id": "db6a682d-114b-43dd-bc57-f3c495b468c4",
   "metadata": {},
   "outputs": [
    {
     "data": {
      "text/plain": [
       "Location                                          0\n",
       "Year                                              0\n",
       "Total number of infants death (age 0) per year    0\n",
       "dtype: int64"
      ]
     },
     "execution_count": 42,
     "metadata": {},
     "output_type": "execute_result"
    }
   ],
   "source": [
    "#checking for missing values \n",
    "df6.isnull().sum()"
   ]
  },
  {
   "cell_type": "code",
   "execution_count": 43,
   "id": "629b8e9b-f81b-4921-8f62-bd7ef4854c3f",
   "metadata": {},
   "outputs": [
    {
     "data": {
      "text/plain": [
       "0"
      ]
     },
     "execution_count": 43,
     "metadata": {},
     "output_type": "execute_result"
    }
   ],
   "source": [
    "#checking for duplicate values\n",
    "df6.duplicated().sum()"
   ]
  },
  {
   "cell_type": "markdown",
   "id": "eae12549-63e7-4b06-b7c5-249b768583f3",
   "metadata": {},
   "source": [
    "7. Youth mortality rate"
   ]
  },
  {
   "cell_type": "code",
   "execution_count": 44,
   "id": "efc26450-b410-4630-9ade-4b74467f82ac",
   "metadata": {},
   "outputs": [
    {
     "data": {
      "text/html": [
       "<div>\n",
       "<style scoped>\n",
       "    .dataframe tbody tr th:only-of-type {\n",
       "        vertical-align: middle;\n",
       "    }\n",
       "\n",
       "    .dataframe tbody tr th {\n",
       "        vertical-align: top;\n",
       "    }\n",
       "\n",
       "    .dataframe thead th {\n",
       "        text-align: right;\n",
       "    }\n",
       "</style>\n",
       "<table border=\"1\" class=\"dataframe\">\n",
       "  <thead>\n",
       "    <tr style=\"text-align: right;\">\n",
       "      <th></th>\n",
       "      <th>Entity</th>\n",
       "      <th>Code</th>\n",
       "      <th>Year</th>\n",
       "      <th>Under-fifteen mortality rate</th>\n",
       "    </tr>\n",
       "  </thead>\n",
       "  <tbody>\n",
       "    <tr>\n",
       "      <th>0</th>\n",
       "      <td>Afghanistan</td>\n",
       "      <td>AFG</td>\n",
       "      <td>1977</td>\n",
       "      <td>30.110573</td>\n",
       "    </tr>\n",
       "    <tr>\n",
       "      <th>1</th>\n",
       "      <td>Afghanistan</td>\n",
       "      <td>AFG</td>\n",
       "      <td>1978</td>\n",
       "      <td>29.290777</td>\n",
       "    </tr>\n",
       "  </tbody>\n",
       "</table>\n",
       "</div>"
      ],
      "text/plain": [
       "        Entity Code  Year  Under-fifteen mortality rate\n",
       "0  Afghanistan  AFG  1977                     30.110573\n",
       "1  Afghanistan  AFG  1978                     29.290777"
      ]
     },
     "execution_count": 44,
     "metadata": {},
     "output_type": "execute_result"
    }
   ],
   "source": [
    "#importing and reading of the dataset\n",
    "df7 = pd.read_csv (r\"C:\\Users\\HP\\Downloads\\ALTSCHOOL\\Regonet Personal project\\Infant Mortality Dataset\\1. youth-mortality-rate.csv\")\n",
    "df7.head(2)"
   ]
  },
  {
   "cell_type": "code",
   "execution_count": 45,
   "id": "ea06dd1a-4c81-4667-85f5-5feab9284487",
   "metadata": {},
   "outputs": [
    {
     "data": {
      "text/plain": [
       "(10515, 4)"
      ]
     },
     "execution_count": 45,
     "metadata": {},
     "output_type": "execute_result"
    }
   ],
   "source": [
    "#checking for the shape of the dataset\n",
    "df7.shape"
   ]
  },
  {
   "cell_type": "code",
   "execution_count": 46,
   "id": "ac7d93fd-12a7-4c27-8abd-b0cbfc9a0405",
   "metadata": {},
   "outputs": [
    {
     "data": {
      "text/plain": [
       "Entity                             0\n",
       "Code                            1023\n",
       "Year                               0\n",
       "Under-fifteen mortality rate       0\n",
       "dtype: int64"
      ]
     },
     "execution_count": 46,
     "metadata": {},
     "output_type": "execute_result"
    }
   ],
   "source": [
    "#checking for missing values\n",
    "df7.isnull().sum()"
   ]
  },
  {
   "cell_type": "code",
   "execution_count": 47,
   "id": "a886777c-ebb2-4793-a61d-a8fcc611e795",
   "metadata": {},
   "outputs": [
    {
     "data": {
      "text/plain": [
       "Index(['Entity', 'Year', 'Under-fifteen mortality rate'], dtype='object')"
      ]
     },
     "execution_count": 47,
     "metadata": {},
     "output_type": "execute_result"
    }
   ],
   "source": [
    "#dropping the code columns\n",
    "df7.drop(columns = [\"Code\"], inplace = True)\n",
    "df7.columns"
   ]
  },
  {
   "cell_type": "code",
   "execution_count": 48,
   "id": "b6360f81-1771-4ae5-bedc-567d93d01933",
   "metadata": {},
   "outputs": [
    {
     "data": {
      "text/plain": [
       "Index(['Location', 'Year', 'Under-fifteen mortality rate'], dtype='object')"
      ]
     },
     "execution_count": 48,
     "metadata": {},
     "output_type": "execute_result"
    }
   ],
   "source": [
    "#renaming the entity column\n",
    "df7.rename(columns = {\"Entity\" : \"Location\"}, inplace = True)\n",
    "df7.columns"
   ]
  },
  {
   "cell_type": "code",
   "execution_count": 49,
   "id": "157c80ca-afd9-4611-bc0a-b3a521087f32",
   "metadata": {},
   "outputs": [
    {
     "data": {
      "text/plain": [
       "0"
      ]
     },
     "execution_count": 49,
     "metadata": {},
     "output_type": "execute_result"
    }
   ],
   "source": [
    "#checking for duplicate values\n",
    "df7.duplicated().sum()"
   ]
  },
  {
   "cell_type": "markdown",
   "id": "e2dbd377-867d-4228-a32c-c024a9eb0963",
   "metadata": {},
   "source": [
    "8. Distribution of cause of death among children"
   ]
  },
  {
   "cell_type": "code",
   "execution_count": 50,
   "id": "5b41caa2-d0e5-4b14-9dd9-d76827c9da46",
   "metadata": {},
   "outputs": [
    {
     "data": {
      "text/html": [
       "<div>\n",
       "<style scoped>\n",
       "    .dataframe tbody tr th:only-of-type {\n",
       "        vertical-align: middle;\n",
       "    }\n",
       "\n",
       "    .dataframe tbody tr th {\n",
       "        vertical-align: top;\n",
       "    }\n",
       "\n",
       "    .dataframe thead th {\n",
       "        text-align: right;\n",
       "    }\n",
       "</style>\n",
       "<table border=\"1\" class=\"dataframe\">\n",
       "  <thead>\n",
       "    <tr style=\"text-align: right;\">\n",
       "      <th></th>\n",
       "      <th>IndicatorCode</th>\n",
       "      <th>Indicator</th>\n",
       "      <th>ValueType</th>\n",
       "      <th>ParentLocationCode</th>\n",
       "      <th>ParentLocation</th>\n",
       "      <th>Location type</th>\n",
       "      <th>SpatialDimValueCode</th>\n",
       "      <th>Location</th>\n",
       "      <th>Period type</th>\n",
       "      <th>Period</th>\n",
       "      <th>IsLatestYear</th>\n",
       "      <th>Dim1 type</th>\n",
       "      <th>Dim1</th>\n",
       "      <th>Dim1ValueCode</th>\n",
       "      <th>Dim2 type</th>\n",
       "      <th>Dim2</th>\n",
       "      <th>Dim2ValueCode</th>\n",
       "      <th>Dim3 type</th>\n",
       "      <th>Dim3</th>\n",
       "      <th>Dim3ValueCode</th>\n",
       "      <th>DataSourceDimValueCode</th>\n",
       "      <th>DataSource</th>\n",
       "      <th>FactValueNumericPrefix</th>\n",
       "      <th>FactValueNumeric</th>\n",
       "      <th>FactValueUoM</th>\n",
       "      <th>FactValueNumericLowPrefix</th>\n",
       "      <th>FactValueNumericLow</th>\n",
       "      <th>FactValueNumericHighPrefix</th>\n",
       "      <th>FactValueNumericHigh</th>\n",
       "      <th>Value</th>\n",
       "      <th>FactValueTranslationID</th>\n",
       "      <th>FactComments</th>\n",
       "      <th>Language</th>\n",
       "      <th>DateModified</th>\n",
       "    </tr>\n",
       "  </thead>\n",
       "  <tbody>\n",
       "    <tr>\n",
       "      <th>0</th>\n",
       "      <td>MORT_300</td>\n",
       "      <td>Distribution of causes of death among children...</td>\n",
       "      <td>numeric</td>\n",
       "      <td>EMR</td>\n",
       "      <td>Eastern Mediterranean</td>\n",
       "      <td>Country</td>\n",
       "      <td>AFG</td>\n",
       "      <td>Afghanistan</td>\n",
       "      <td>Year</td>\n",
       "      <td>2017</td>\n",
       "      <td>True</td>\n",
       "      <td>Age Group</td>\n",
       "      <td>0-27 days</td>\n",
       "      <td>AGEGROUP_DAYS0-27</td>\n",
       "      <td>Cause of death</td>\n",
       "      <td>Other noncommunicable diseases</td>\n",
       "      <td>CHILDCAUSE_CH16</td>\n",
       "      <td>NaN</td>\n",
       "      <td>NaN</td>\n",
       "      <td>NaN</td>\n",
       "      <td>NaN</td>\n",
       "      <td>NaN</td>\n",
       "      <td>NaN</td>\n",
       "      <td>0.0006</td>\n",
       "      <td>NaN</td>\n",
       "      <td>NaN</td>\n",
       "      <td>NaN</td>\n",
       "      <td>NaN</td>\n",
       "      <td>NaN</td>\n",
       "      <td>0.0</td>\n",
       "      <td>NaN</td>\n",
       "      <td>NaN</td>\n",
       "      <td>EN</td>\n",
       "      <td>2018-11-26T23:00:00.000Z</td>\n",
       "    </tr>\n",
       "    <tr>\n",
       "      <th>1</th>\n",
       "      <td>MORT_300</td>\n",
       "      <td>Distribution of causes of death among children...</td>\n",
       "      <td>numeric</td>\n",
       "      <td>EMR</td>\n",
       "      <td>Eastern Mediterranean</td>\n",
       "      <td>Country</td>\n",
       "      <td>AFG</td>\n",
       "      <td>Afghanistan</td>\n",
       "      <td>Year</td>\n",
       "      <td>2017</td>\n",
       "      <td>True</td>\n",
       "      <td>Age Group</td>\n",
       "      <td>0-27 days</td>\n",
       "      <td>AGEGROUP_DAYS0-27</td>\n",
       "      <td>Cause of death</td>\n",
       "      <td>Injuries</td>\n",
       "      <td>CHILDCAUSE_CH17</td>\n",
       "      <td>NaN</td>\n",
       "      <td>NaN</td>\n",
       "      <td>NaN</td>\n",
       "      <td>NaN</td>\n",
       "      <td>NaN</td>\n",
       "      <td>NaN</td>\n",
       "      <td>0.0110</td>\n",
       "      <td>NaN</td>\n",
       "      <td>NaN</td>\n",
       "      <td>NaN</td>\n",
       "      <td>NaN</td>\n",
       "      <td>NaN</td>\n",
       "      <td>0.0</td>\n",
       "      <td>NaN</td>\n",
       "      <td>NaN</td>\n",
       "      <td>EN</td>\n",
       "      <td>2018-11-26T23:00:00.000Z</td>\n",
       "    </tr>\n",
       "  </tbody>\n",
       "</table>\n",
       "</div>"
      ],
      "text/plain": [
       "  IndicatorCode                                          Indicator ValueType  \\\n",
       "0      MORT_300  Distribution of causes of death among children...   numeric   \n",
       "1      MORT_300  Distribution of causes of death among children...   numeric   \n",
       "\n",
       "  ParentLocationCode         ParentLocation Location type SpatialDimValueCode  \\\n",
       "0                EMR  Eastern Mediterranean       Country                 AFG   \n",
       "1                EMR  Eastern Mediterranean       Country                 AFG   \n",
       "\n",
       "      Location Period type  Period  IsLatestYear  Dim1 type       Dim1  \\\n",
       "0  Afghanistan        Year    2017          True  Age Group  0-27 days   \n",
       "1  Afghanistan        Year    2017          True  Age Group  0-27 days   \n",
       "\n",
       "       Dim1ValueCode       Dim2 type                            Dim2  \\\n",
       "0  AGEGROUP_DAYS0-27  Cause of death  Other noncommunicable diseases   \n",
       "1  AGEGROUP_DAYS0-27  Cause of death                        Injuries   \n",
       "\n",
       "     Dim2ValueCode  Dim3 type  Dim3  Dim3ValueCode  DataSourceDimValueCode  \\\n",
       "0  CHILDCAUSE_CH16        NaN   NaN            NaN                     NaN   \n",
       "1  CHILDCAUSE_CH17        NaN   NaN            NaN                     NaN   \n",
       "\n",
       "   DataSource  FactValueNumericPrefix  FactValueNumeric  FactValueUoM  \\\n",
       "0         NaN                     NaN            0.0006           NaN   \n",
       "1         NaN                     NaN            0.0110           NaN   \n",
       "\n",
       "   FactValueNumericLowPrefix  FactValueNumericLow  FactValueNumericHighPrefix  \\\n",
       "0                        NaN                  NaN                         NaN   \n",
       "1                        NaN                  NaN                         NaN   \n",
       "\n",
       "   FactValueNumericHigh  Value  FactValueTranslationID  FactComments Language  \\\n",
       "0                   NaN    0.0                     NaN           NaN       EN   \n",
       "1                   NaN    0.0                     NaN           NaN       EN   \n",
       "\n",
       "               DateModified  \n",
       "0  2018-11-26T23:00:00.000Z  \n",
       "1  2018-11-26T23:00:00.000Z  "
      ]
     },
     "execution_count": 50,
     "metadata": {},
     "output_type": "execute_result"
    }
   ],
   "source": [
    "#importing and reading of the dataset\n",
    "df8 = pd.read_csv (r\"C:\\Users\\HP\\Downloads\\ALTSCHOOL\\Regonet Personal project\\Infant Mortality Dataset\\4. Distribution of Causes of Death among Children Aged less than 5 years.csv\")\n",
    "df8.head(2)"
   ]
  },
  {
   "cell_type": "code",
   "execution_count": 51,
   "id": "ea247d0a-d3d8-4c1c-acec-dee497976913",
   "metadata": {},
   "outputs": [
    {
     "data": {
      "text/plain": [
       "IndicatorCode                      0\n",
       "Indicator                          0\n",
       "ValueType                          0\n",
       "ParentLocationCode                 0\n",
       "ParentLocation                     0\n",
       "Location type                      0\n",
       "SpatialDimValueCode                0\n",
       "Location                           0\n",
       "Period type                        0\n",
       "Period                             0\n",
       "IsLatestYear                       0\n",
       "Dim1 type                          0\n",
       "Dim1                               0\n",
       "Dim1ValueCode                      0\n",
       "Dim2 type                          0\n",
       "Dim2                               0\n",
       "Dim2ValueCode                      0\n",
       "Dim3 type                     146664\n",
       "Dim3                          146664\n",
       "Dim3ValueCode                 146664\n",
       "DataSourceDimValueCode        146664\n",
       "DataSource                    146664\n",
       "FactValueNumericPrefix        146664\n",
       "FactValueNumeric                   0\n",
       "FactValueUoM                  146664\n",
       "FactValueNumericLowPrefix     146664\n",
       "FactValueNumericLow           146664\n",
       "FactValueNumericHighPrefix    146664\n",
       "FactValueNumericHigh          146664\n",
       "Value                              0\n",
       "FactValueTranslationID        146664\n",
       "FactComments                  146664\n",
       "Language                           0\n",
       "DateModified                       0\n",
       "dtype: int64"
      ]
     },
     "execution_count": 51,
     "metadata": {},
     "output_type": "execute_result"
    }
   ],
   "source": [
    "#checking for missing values\n",
    "df8.isnull().sum()"
   ]
  },
  {
   "cell_type": "code",
   "execution_count": 52,
   "id": "f96e0da4-30e6-4261-adec-dfe0450212e4",
   "metadata": {},
   "outputs": [
    {
     "data": {
      "text/plain": [
       "(146664, 34)"
      ]
     },
     "execution_count": 52,
     "metadata": {},
     "output_type": "execute_result"
    }
   ],
   "source": [
    "#checking for the shape of the dataset\n",
    "df8.shape"
   ]
  },
  {
   "cell_type": "code",
   "execution_count": 53,
   "id": "39a0735d-c5ae-443f-a4bb-52a7d13f0c13",
   "metadata": {},
   "outputs": [
    {
     "data": {
      "text/plain": [
       "Index(['IndicatorCode', 'Indicator', 'ValueType', 'ParentLocationCode',\n",
       "       'Parent Location', 'Location type', 'SpatialDimValueCode', 'Location',\n",
       "       'Period type', 'Year', 'IsLatestYear', 'Dim1 type', 'Under Age 5 group',\n",
       "       'Dim1ValueCode', 'Dim2 type', 'Cause of Death', 'Dim2ValueCode',\n",
       "       'Dim3 type', 'Dim3', 'Dim3ValueCode', 'DataSourceDimValueCode',\n",
       "       'DataSource', 'FactValueNumericPrefix', 'FactValueNumeric',\n",
       "       'FactValueUoM', 'FactValueNumericLowPrefix', 'FactValueNumericLow',\n",
       "       'FactValueNumericHighPrefix', 'FactValueNumericHigh', 'Value',\n",
       "       'FactValueTranslationID', 'FactComments', 'Language', 'DateModified'],\n",
       "      dtype='object')"
      ]
     },
     "execution_count": 53,
     "metadata": {},
     "output_type": "execute_result"
    }
   ],
   "source": [
    "#renaming of columns\n",
    "df8.rename(columns = {\"ParentLocation\" : \"Parent Location\",\n",
    "                      \"Dim1\" : \"Under Age 5 group\",\n",
    "                      \"Dim2\" : \"Cause of Death\",\n",
    "                      \"Period\" : \"Year\"}, inplace = True)\n",
    "df8.columns"
   ]
  },
  {
   "cell_type": "code",
   "execution_count": 54,
   "id": "ecefa516-a0f6-4712-af71-e5381bbaf84a",
   "metadata": {},
   "outputs": [
    {
     "data": {
      "text/plain": [
       "Index(['Parent Location', 'Location', 'Year', 'Under Age 5 group',\n",
       "       'Cause of Death'],\n",
       "      dtype='object')"
      ]
     },
     "execution_count": 54,
     "metadata": {},
     "output_type": "execute_result"
    }
   ],
   "source": [
    "#will be dropping some of the columns at once\n",
    "#assigning a variable to all the columns i want to drop\n",
    "drop_columns = ['IndicatorCode', 'Indicator', 'ValueType', 'Period type',\n",
    "                'IsLatestYear', 'Dim1 type', 'Dim1ValueCode', 'Dim2 type', 'ParentLocationCode',\n",
    "                'Dim2ValueCode','Dim3 type', 'Dim3', 'Dim3ValueCode', 'DataSourceDimValueCode',\n",
    "                'DataSource', 'FactValueNumericPrefix', 'FactValueNumeric',\n",
    "                'FactValueUoM', 'FactValueNumericLowPrefix', 'FactValueNumericLow',\n",
    "                'FactValueNumericHighPrefix', 'FactValueNumericHigh', 'Value', 'Location type',\n",
    "                'FactValueTranslationID', 'FactComments', 'Language', 'DateModified', 'SpatialDimValueCode']\n",
    "df8.drop(columns = drop_columns, inplace = True)\n",
    "df8.columns"
   ]
  },
  {
   "cell_type": "code",
   "execution_count": 55,
   "id": "858b454e-660c-4f82-ad8e-7afdc7d2e50b",
   "metadata": {},
   "outputs": [
    {
     "data": {
      "text/plain": [
       "0"
      ]
     },
     "execution_count": 55,
     "metadata": {},
     "output_type": "execute_result"
    }
   ],
   "source": [
    "#checking for duplicate values\n",
    "df8.duplicated().sum()"
   ]
  },
  {
   "cell_type": "markdown",
   "id": "7ac6d65c-f65c-4ab5-8b37-393d97fba77b",
   "metadata": {},
   "source": [
    "MERGING OF THE DATASETS TOGETHER INTO A WHOLE DATASET"
   ]
  },
  {
   "cell_type": "code",
   "execution_count": 56,
   "id": "7112d051-b18a-47ac-95dd-447a160237ff",
   "metadata": {},
   "outputs": [
    {
     "name": "stdout",
     "output_type": "stream",
     "text": [
      "(3822, 16)\n"
     ]
    }
   ],
   "source": [
    "#merging of the eight different dataset from above into one dataset inorder for further analysis to be carried out successfully\n",
    "merged_df = (pd.merge(df1, df2, on=[\"Location\", \"Year\"], how=\"inner\")\n",
    "    .merge(df3, on=[\"Location\", \"Year\"], how=\"inner\")\n",
    "    .merge(df4, on=[\"Location\", \"Year\"], how=\"inner\")\n",
    "    .merge(df5, on=[\"Location\", \"Year\"], how=\"inner\")\n",
    "    .merge(df6, on=[\"Location\", \"Year\"], how=\"inner\")\n",
    "    .merge(df7, on=[\"Location\", \"Year\"], how=\"inner\")\n",
    "    .merge(df8, on=[\"Location\", \"Year\"], how=\"inner\"))\n",
    "print(merged_df.shape)"
   ]
  },
  {
   "cell_type": "code",
   "execution_count": 57,
   "id": "1b95d60f-bf31-43f8-bc62-dc136ea107c6",
   "metadata": {},
   "outputs": [
    {
     "data": {
      "text/html": [
       "<div>\n",
       "<style scoped>\n",
       "    .dataframe tbody tr th:only-of-type {\n",
       "        vertical-align: middle;\n",
       "    }\n",
       "\n",
       "    .dataframe tbody tr th {\n",
       "        vertical-align: top;\n",
       "    }\n",
       "\n",
       "    .dataframe thead th {\n",
       "        text-align: right;\n",
       "    }\n",
       "</style>\n",
       "<table border=\"1\" class=\"dataframe\">\n",
       "  <thead>\n",
       "    <tr style=\"text-align: right;\">\n",
       "      <th></th>\n",
       "      <th>Location</th>\n",
       "      <th>Year</th>\n",
       "      <th>Share of population covered by health insurance (ILO (2014))</th>\n",
       "      <th>BCG (% of one-year-olds immunized)</th>\n",
       "      <th>HepB3 (% of one-year-olds immunized)</th>\n",
       "      <th>MCV1 (% of one-year-olds immunized)</th>\n",
       "      <th>Pol3 (% of one-year-olds immunized)</th>\n",
       "      <th>DTP3 (% of one-year-olds immunized)</th>\n",
       "      <th>Births attended by skilled health staff (% of total)</th>\n",
       "      <th>Estimated maternal deaths</th>\n",
       "      <th>Under-five mortality rate (per 100 live births)</th>\n",
       "      <th>Total number of infants death (age 0) per year</th>\n",
       "      <th>Under-fifteen mortality rate</th>\n",
       "      <th>Parent Location</th>\n",
       "      <th>Under Age 5 group</th>\n",
       "      <th>Cause of Death</th>\n",
       "    </tr>\n",
       "  </thead>\n",
       "  <tbody>\n",
       "    <tr>\n",
       "      <th>0</th>\n",
       "      <td>Antigua and Barbuda</td>\n",
       "      <td>2007</td>\n",
       "      <td>51.1</td>\n",
       "      <td>92.0</td>\n",
       "      <td>97.0</td>\n",
       "      <td>99.0</td>\n",
       "      <td>98.0</td>\n",
       "      <td>99.0</td>\n",
       "      <td>100.0</td>\n",
       "      <td>0.337182</td>\n",
       "      <td>1.267723</td>\n",
       "      <td>13.0</td>\n",
       "      <td>1.516073</td>\n",
       "      <td>Americas</td>\n",
       "      <td>0-27 days</td>\n",
       "      <td>Other noncommunicable diseases</td>\n",
       "    </tr>\n",
       "    <tr>\n",
       "      <th>1</th>\n",
       "      <td>Antigua and Barbuda</td>\n",
       "      <td>2007</td>\n",
       "      <td>51.1</td>\n",
       "      <td>92.0</td>\n",
       "      <td>97.0</td>\n",
       "      <td>99.0</td>\n",
       "      <td>98.0</td>\n",
       "      <td>99.0</td>\n",
       "      <td>100.0</td>\n",
       "      <td>0.337182</td>\n",
       "      <td>1.267723</td>\n",
       "      <td>13.0</td>\n",
       "      <td>1.516073</td>\n",
       "      <td>Americas</td>\n",
       "      <td>0-27 days</td>\n",
       "      <td>Injuries</td>\n",
       "    </tr>\n",
       "  </tbody>\n",
       "</table>\n",
       "</div>"
      ],
      "text/plain": [
       "              Location  Year  \\\n",
       "0  Antigua and Barbuda  2007   \n",
       "1  Antigua and Barbuda  2007   \n",
       "\n",
       "   Share of population covered by health insurance (ILO (2014))  \\\n",
       "0                                               51.1              \n",
       "1                                               51.1              \n",
       "\n",
       "   BCG (% of one-year-olds immunized)  HepB3 (% of one-year-olds immunized)  \\\n",
       "0                                92.0                                  97.0   \n",
       "1                                92.0                                  97.0   \n",
       "\n",
       "   MCV1 (% of one-year-olds immunized)  Pol3 (% of one-year-olds immunized)  \\\n",
       "0                                 99.0                                 98.0   \n",
       "1                                 99.0                                 98.0   \n",
       "\n",
       "   DTP3 (% of one-year-olds immunized)  \\\n",
       "0                                 99.0   \n",
       "1                                 99.0   \n",
       "\n",
       "   Births attended by skilled health staff (% of total)  \\\n",
       "0                                              100.0      \n",
       "1                                              100.0      \n",
       "\n",
       "   Estimated maternal deaths  Under-five mortality rate (per 100 live births)  \\\n",
       "0                   0.337182                                         1.267723   \n",
       "1                   0.337182                                         1.267723   \n",
       "\n",
       "   Total number of infants death (age 0) per year  \\\n",
       "0                                            13.0   \n",
       "1                                            13.0   \n",
       "\n",
       "   Under-fifteen mortality rate Parent Location Under Age 5 group  \\\n",
       "0                      1.516073        Americas         0-27 days   \n",
       "1                      1.516073        Americas         0-27 days   \n",
       "\n",
       "                   Cause of Death  \n",
       "0  Other noncommunicable diseases  \n",
       "1                        Injuries  "
      ]
     },
     "execution_count": 57,
     "metadata": {},
     "output_type": "execute_result"
    }
   ],
   "source": [
    "#viewing of the merged dataset\n",
    "merged_df.head(2)"
   ]
  },
  {
   "cell_type": "code",
   "execution_count": 58,
   "id": "ca66a2f5-fbe8-4e14-8ff8-a36a462f8407",
   "metadata": {},
   "outputs": [
    {
     "data": {
      "text/plain": [
       "Location                                                        0\n",
       "Year                                                            0\n",
       "Share of population covered by health insurance (ILO (2014))    0\n",
       "BCG (% of one-year-olds immunized)                              0\n",
       "HepB3 (% of one-year-olds immunized)                            0\n",
       "MCV1 (% of one-year-olds immunized)                             0\n",
       "Pol3 (% of one-year-olds immunized)                             0\n",
       "DTP3 (% of one-year-olds immunized)                             0\n",
       "Births attended by skilled health staff (% of total)            0\n",
       "Estimated maternal deaths                                       0\n",
       "Under-five mortality rate (per 100 live births)                 0\n",
       "Total number of infants death (age 0) per year                  0\n",
       "Under-fifteen mortality rate                                    0\n",
       "Parent Location                                                 0\n",
       "Under Age 5 group                                               0\n",
       "Cause of Death                                                  0\n",
       "dtype: int64"
      ]
     },
     "execution_count": 58,
     "metadata": {},
     "output_type": "execute_result"
    }
   ],
   "source": [
    "#checking if there are any missing values after merging\n",
    "merged_df.isnull().sum()"
   ]
  },
  {
   "cell_type": "code",
   "execution_count": 59,
   "id": "0d82fad4-1640-4191-b7cd-bc51a51c0ad5",
   "metadata": {},
   "outputs": [
    {
     "data": {
      "text/plain": [
       "0"
      ]
     },
     "execution_count": 59,
     "metadata": {},
     "output_type": "execute_result"
    }
   ],
   "source": [
    "#checking for duplicate values\n",
    "merged_df.duplicated().sum()"
   ]
  },
  {
   "cell_type": "markdown",
   "id": "74cdb6be-a3ee-4222-b1b7-d1c000de2ef0",
   "metadata": {},
   "source": [
    "EXPLORATORY DATA ANALYSIS"
   ]
  },
  {
   "cell_type": "code",
   "execution_count": 60,
   "id": "18229ace-fc7c-40ab-8266-d0fe9d400c3d",
   "metadata": {},
   "outputs": [
    {
     "data": {
      "text/plain": [
       "Location\n",
       "Antigua and Barbuda    42\n",
       "Cyprus                 42\n",
       "Armenia                42\n",
       "Australia              42\n",
       "Austria                42\n",
       "                       ..\n",
       "Ukraine                42\n",
       "Uruguay                42\n",
       "Uzbekistan             42\n",
       "Yemen                  42\n",
       "Zimbabwe               42\n",
       "Name: count, Length: 91, dtype: int64"
      ]
     },
     "execution_count": 60,
     "metadata": {},
     "output_type": "execute_result"
    }
   ],
   "source": [
    "merged_df[\"Location\"].value_counts().sort_values(ascending = False)"
   ]
  },
  {
   "cell_type": "code",
   "execution_count": 61,
   "id": "ab7670b3-5c71-4f56-bca5-ae802ab21710",
   "metadata": {},
   "outputs": [
    {
     "data": {
      "text/plain": [
       "array(['Antigua and Barbuda', 'Argentina', 'Armenia', 'Australia',\n",
       "       'Austria', 'Azerbaijan', 'Bahrain', 'Bangladesh', 'Belarus',\n",
       "       'Belize', 'Bhutan', 'Bosnia and Herzegovina', 'Brazil', 'Bulgaria',\n",
       "       'Burkina Faso', 'Canada', 'Central African Republic', 'Chile',\n",
       "       'China', 'Colombia', 'Costa Rica', 'Croatia', 'Cuba', 'Cyprus',\n",
       "       'Czechia', 'Denmark', 'Djibouti', 'Dominican Republic', 'Ecuador',\n",
       "       'Egypt', 'El Salvador', 'Estonia', 'Fiji', 'Finland', 'France',\n",
       "       'Georgia', 'Germany', 'Greece', 'Grenada', 'Guyana', 'Honduras',\n",
       "       'Hungary', 'Iceland', 'Indonesia', 'Ireland', 'Italy', 'Jamaica',\n",
       "       'Japan', 'Kazakhstan', 'Kenya', 'Kuwait', 'Kyrgyzstan', 'Latvia',\n",
       "       'Lesotho', 'Lithuania', 'Madagascar', 'Malaysia', 'Maldives',\n",
       "       'Malta', 'Mauritius', 'Mexico', 'Namibia', 'New Zealand',\n",
       "       'Nicaragua', 'Nigeria', 'North Macedonia', 'Norway', 'Oman',\n",
       "       'Pakistan', 'Panama', 'Paraguay', 'Peru', 'Poland', 'Qatar',\n",
       "       'Romania', 'Rwanda', 'Saint Lucia',\n",
       "       'Saint Vincent and the Grenadines', 'Sao Tome and Principe',\n",
       "       'Serbia', 'Sierra Leone', 'Singapore', 'Slovakia', 'Slovenia',\n",
       "       'Tajikistan', 'Togo', 'Ukraine', 'Uruguay', 'Uzbekistan', 'Yemen',\n",
       "       'Zimbabwe'], dtype=object)"
      ]
     },
     "execution_count": 61,
     "metadata": {},
     "output_type": "execute_result"
    }
   ],
   "source": [
    "merged_df[\"Location\"].unique()"
   ]
  },
  {
   "cell_type": "code",
   "execution_count": 62,
   "id": "c6357b25-00e6-4780-9dd3-0d62d8dc61e5",
   "metadata": {},
   "outputs": [
    {
     "name": "stdout",
     "output_type": "stream",
     "text": [
      "['Burkina Faso' 'Central African Republic' 'Djibouti' 'Egypt' 'Kenya'\n",
      " 'Lesotho' 'Madagascar' 'Mauritius' 'Namibia' 'Nigeria' 'Rwanda'\n",
      " 'Sao Tome and Principe' 'Sierra Leone' 'Togo' 'Zimbabwe']\n"
     ]
    }
   ],
   "source": [
    "#base on the objective of the project, it was quite specific on analysis for african countries\n",
    "#will be filtering just the african countries from the pool of location\n",
    "#assigning a variable name to the african countries\n",
    "africa = ['Burkina Faso', 'Central African Republic', 'Djibouti', 'Egypt', 'Kenya', \n",
    "        'Lesotho', 'Madagascar', 'Mauritius', 'Namibia', 'Nigeria', 'Rwanda', \n",
    "        'Sao Tome and Principe', 'Sierra Leone', 'Togo', 'Zimbabwe']\n",
    "\n",
    "#filtering for just the african countries\n",
    "africa_df = merged_df[merged_df['Location'].isin(africa)]\n",
    "print(africa_df['Location'].unique())"
   ]
  },
  {
   "cell_type": "code",
   "execution_count": 63,
   "id": "f1993beb-a3c1-4ff4-8a9e-0204f4550853",
   "metadata": {},
   "outputs": [],
   "source": [
    "#saving the new dataset that contains only the africa countries\n",
    "africa_df.to_csv('merged_df.csv', index=False)"
   ]
  },
  {
   "cell_type": "code",
   "execution_count": 64,
   "id": "64ca2b5d-703a-4d00-bea1-a66fb579a350",
   "metadata": {},
   "outputs": [
    {
     "data": {
      "text/html": [
       "<div>\n",
       "<style scoped>\n",
       "    .dataframe tbody tr th:only-of-type {\n",
       "        vertical-align: middle;\n",
       "    }\n",
       "\n",
       "    .dataframe tbody tr th {\n",
       "        vertical-align: top;\n",
       "    }\n",
       "\n",
       "    .dataframe thead th {\n",
       "        text-align: right;\n",
       "    }\n",
       "</style>\n",
       "<table border=\"1\" class=\"dataframe\">\n",
       "  <thead>\n",
       "    <tr style=\"text-align: right;\">\n",
       "      <th></th>\n",
       "      <th>Location</th>\n",
       "      <th>Year</th>\n",
       "      <th>Share of population covered by health insurance (ILO (2014))</th>\n",
       "      <th>BCG (% of one-year-olds immunized)</th>\n",
       "      <th>HepB3 (% of one-year-olds immunized)</th>\n",
       "      <th>MCV1 (% of one-year-olds immunized)</th>\n",
       "      <th>Pol3 (% of one-year-olds immunized)</th>\n",
       "      <th>DTP3 (% of one-year-olds immunized)</th>\n",
       "      <th>Births attended by skilled health staff (% of total)</th>\n",
       "      <th>Estimated maternal deaths</th>\n",
       "      <th>Under-five mortality rate (per 100 live births)</th>\n",
       "      <th>Total number of infants death (age 0) per year</th>\n",
       "      <th>Under-fifteen mortality rate</th>\n",
       "      <th>Parent Location</th>\n",
       "      <th>Under Age 5 group</th>\n",
       "      <th>Cause of Death</th>\n",
       "    </tr>\n",
       "  </thead>\n",
       "  <tbody>\n",
       "    <tr>\n",
       "      <th>588</th>\n",
       "      <td>Burkina Faso</td>\n",
       "      <td>2010</td>\n",
       "      <td>1.0</td>\n",
       "      <td>99.0</td>\n",
       "      <td>91.0</td>\n",
       "      <td>92.0</td>\n",
       "      <td>90.0</td>\n",
       "      <td>91.0</td>\n",
       "      <td>23.0</td>\n",
       "      <td>2491.198</td>\n",
       "      <td>12.112398</td>\n",
       "      <td>53687.0</td>\n",
       "      <td>14.184238</td>\n",
       "      <td>Africa</td>\n",
       "      <td>0-27 days</td>\n",
       "      <td>Other communicable, perinatal and nutritional ...</td>\n",
       "    </tr>\n",
       "    <tr>\n",
       "      <th>589</th>\n",
       "      <td>Burkina Faso</td>\n",
       "      <td>2010</td>\n",
       "      <td>1.0</td>\n",
       "      <td>99.0</td>\n",
       "      <td>91.0</td>\n",
       "      <td>92.0</td>\n",
       "      <td>90.0</td>\n",
       "      <td>91.0</td>\n",
       "      <td>23.0</td>\n",
       "      <td>2491.198</td>\n",
       "      <td>12.112398</td>\n",
       "      <td>53687.0</td>\n",
       "      <td>14.184238</td>\n",
       "      <td>Africa</td>\n",
       "      <td>0-27 days</td>\n",
       "      <td>Other noncommunicable diseases</td>\n",
       "    </tr>\n",
       "  </tbody>\n",
       "</table>\n",
       "</div>"
      ],
      "text/plain": [
       "         Location  Year  \\\n",
       "588  Burkina Faso  2010   \n",
       "589  Burkina Faso  2010   \n",
       "\n",
       "     Share of population covered by health insurance (ILO (2014))  \\\n",
       "588                                                1.0              \n",
       "589                                                1.0              \n",
       "\n",
       "     BCG (% of one-year-olds immunized)  HepB3 (% of one-year-olds immunized)  \\\n",
       "588                                99.0                                  91.0   \n",
       "589                                99.0                                  91.0   \n",
       "\n",
       "     MCV1 (% of one-year-olds immunized)  Pol3 (% of one-year-olds immunized)  \\\n",
       "588                                 92.0                                 90.0   \n",
       "589                                 92.0                                 90.0   \n",
       "\n",
       "     DTP3 (% of one-year-olds immunized)  \\\n",
       "588                                 91.0   \n",
       "589                                 91.0   \n",
       "\n",
       "     Births attended by skilled health staff (% of total)  \\\n",
       "588                                               23.0      \n",
       "589                                               23.0      \n",
       "\n",
       "     Estimated maternal deaths  \\\n",
       "588                   2491.198   \n",
       "589                   2491.198   \n",
       "\n",
       "     Under-five mortality rate (per 100 live births)  \\\n",
       "588                                        12.112398   \n",
       "589                                        12.112398   \n",
       "\n",
       "     Total number of infants death (age 0) per year  \\\n",
       "588                                         53687.0   \n",
       "589                                         53687.0   \n",
       "\n",
       "     Under-fifteen mortality rate Parent Location Under Age 5 group  \\\n",
       "588                     14.184238          Africa         0-27 days   \n",
       "589                     14.184238          Africa         0-27 days   \n",
       "\n",
       "                                        Cause of Death  \n",
       "588  Other communicable, perinatal and nutritional ...  \n",
       "589                     Other noncommunicable diseases  "
      ]
     },
     "execution_count": 64,
     "metadata": {},
     "output_type": "execute_result"
    }
   ],
   "source": [
    "africa_df.head(2)"
   ]
  },
  {
   "cell_type": "code",
   "execution_count": 65,
   "id": "bbe05990-39f0-4aa9-a727-7efa30adb57a",
   "metadata": {},
   "outputs": [
    {
     "data": {
      "text/plain": [
       "(630, 16)"
      ]
     },
     "execution_count": 65,
     "metadata": {},
     "output_type": "execute_result"
    }
   ],
   "source": [
    "africa_df.shape"
   ]
  },
  {
   "cell_type": "code",
   "execution_count": 66,
   "id": "40442c4c-c4b6-4480-a925-9960388010e1",
   "metadata": {},
   "outputs": [
    {
     "name": "stdout",
     "output_type": "stream",
     "text": [
      "<class 'pandas.core.frame.DataFrame'>\n",
      "Index: 630 entries, 588 to 3821\n",
      "Data columns (total 16 columns):\n",
      " #   Column                                                        Non-Null Count  Dtype  \n",
      "---  ------                                                        --------------  -----  \n",
      " 0   Location                                                      630 non-null    object \n",
      " 1   Year                                                          630 non-null    int64  \n",
      " 2   Share of population covered by health insurance (ILO (2014))  630 non-null    float64\n",
      " 3   BCG (% of one-year-olds immunized)                            630 non-null    float64\n",
      " 4   HepB3 (% of one-year-olds immunized)                          630 non-null    float64\n",
      " 5   MCV1 (% of one-year-olds immunized)                           630 non-null    float64\n",
      " 6   Pol3 (% of one-year-olds immunized)                           630 non-null    float64\n",
      " 7   DTP3 (% of one-year-olds immunized)                           630 non-null    float64\n",
      " 8   Births attended by skilled health staff (% of total)          630 non-null    float64\n",
      " 9   Estimated maternal deaths                                     630 non-null    float64\n",
      " 10  Under-five mortality rate (per 100 live births)               630 non-null    float64\n",
      " 11  Total number of infants death (age 0) per year                630 non-null    float64\n",
      " 12  Under-fifteen mortality rate                                  630 non-null    float64\n",
      " 13  Parent Location                                               630 non-null    object \n",
      " 14  Under Age 5 group                                             630 non-null    object \n",
      " 15  Cause of Death                                                630 non-null    object \n",
      "dtypes: float64(11), int64(1), object(4)\n",
      "memory usage: 83.7+ KB\n"
     ]
    }
   ],
   "source": [
    "africa_df.info()"
   ]
  },
  {
   "cell_type": "code",
   "execution_count": 67,
   "id": "25192e47-9fb4-4cd2-a828-9fe25d2cc529",
   "metadata": {},
   "outputs": [
    {
     "data": {
      "text/plain": [
       "Index(['Location', 'Year',\n",
       "       'Share of population covered by health insurance (ILO (2014))',\n",
       "       'BCG (% of one-year-olds immunized)',\n",
       "       'HepB3 (% of one-year-olds immunized)',\n",
       "       'MCV1 (% of one-year-olds immunized)',\n",
       "       'Pol3 (% of one-year-olds immunized)',\n",
       "       'DTP3 (% of one-year-olds immunized)',\n",
       "       'Births attended by skilled health staff (% of total)',\n",
       "       'Estimated maternal deaths',\n",
       "       'Under-five mortality rate (per 100 live births)',\n",
       "       'Total number of infants death (age 0) per year',\n",
       "       'Under-fifteen mortality rate', 'Parent Location', 'Under Age 5 group',\n",
       "       'Cause of Death'],\n",
       "      dtype='object')"
      ]
     },
     "execution_count": 67,
     "metadata": {},
     "output_type": "execute_result"
    }
   ],
   "source": [
    "africa_df.columns"
   ]
  },
  {
   "cell_type": "markdown",
   "id": "82b13c10-628d-4d8f-8ea4-258b2489712e",
   "metadata": {},
   "source": [
    "Engineering of new coulumns"
   ]
  },
  {
   "cell_type": "code",
   "execution_count": 68,
   "id": "835c391e-cb3b-46a2-9679-371ad839466f",
   "metadata": {},
   "outputs": [
    {
     "name": "stderr",
     "output_type": "stream",
     "text": [
      "C:\\Users\\HP\\AppData\\Local\\Temp\\ipykernel_724\\1259611882.py:8: SettingWithCopyWarning: \n",
      "A value is trying to be set on a copy of a slice from a DataFrame.\n",
      "Try using .loc[row_indexer,col_indexer] = value instead\n",
      "\n",
      "See the caveats in the documentation: https://pandas.pydata.org/pandas-docs/stable/user_guide/indexing.html#returning-a-view-versus-a-copy\n",
      "  africa_df['Total Number of infant Death (%)'] = ((africa_df['Total number of infants death (age 0) per year'] / total_infant_death) * 100).round(2)\n",
      "C:\\Users\\HP\\AppData\\Local\\Temp\\ipykernel_724\\1259611882.py:9: SettingWithCopyWarning: \n",
      "A value is trying to be set on a copy of a slice from a DataFrame.\n",
      "Try using .loc[row_indexer,col_indexer] = value instead\n",
      "\n",
      "See the caveats in the documentation: https://pandas.pydata.org/pandas-docs/stable/user_guide/indexing.html#returning-a-view-versus-a-copy\n",
      "  africa_df['Under-five mortality (%)'] = ((africa_df['Under-five mortality rate (per 100 live births)'] / total_under_five) * 100).round(2)\n",
      "C:\\Users\\HP\\AppData\\Local\\Temp\\ipykernel_724\\1259611882.py:10: SettingWithCopyWarning: \n",
      "A value is trying to be set on a copy of a slice from a DataFrame.\n",
      "Try using .loc[row_indexer,col_indexer] = value instead\n",
      "\n",
      "See the caveats in the documentation: https://pandas.pydata.org/pandas-docs/stable/user_guide/indexing.html#returning-a-view-versus-a-copy\n",
      "  africa_df['Under-fifteen mortality (%)'] = ((africa_df['Under-fifteen mortality rate'] / total_under_fifteen) * 100).round(2)\n",
      "C:\\Users\\HP\\AppData\\Local\\Temp\\ipykernel_724\\1259611882.py:11: SettingWithCopyWarning: \n",
      "A value is trying to be set on a copy of a slice from a DataFrame.\n",
      "Try using .loc[row_indexer,col_indexer] = value instead\n",
      "\n",
      "See the caveats in the documentation: https://pandas.pydata.org/pandas-docs/stable/user_guide/indexing.html#returning-a-view-versus-a-copy\n",
      "  africa_df['Estimated maternal death (%)'] = ((africa_df['Estimated maternal deaths'] / total_maternal_death) * 100).round(2)\n"
     ]
    },
    {
     "data": {
      "text/html": [
       "<div>\n",
       "<style scoped>\n",
       "    .dataframe tbody tr th:only-of-type {\n",
       "        vertical-align: middle;\n",
       "    }\n",
       "\n",
       "    .dataframe tbody tr th {\n",
       "        vertical-align: top;\n",
       "    }\n",
       "\n",
       "    .dataframe thead th {\n",
       "        text-align: right;\n",
       "    }\n",
       "</style>\n",
       "<table border=\"1\" class=\"dataframe\">\n",
       "  <thead>\n",
       "    <tr style=\"text-align: right;\">\n",
       "      <th></th>\n",
       "      <th>Location</th>\n",
       "      <th>Year</th>\n",
       "      <th>Share of population covered by health insurance (ILO (2014))</th>\n",
       "      <th>BCG (% of one-year-olds immunized)</th>\n",
       "      <th>HepB3 (% of one-year-olds immunized)</th>\n",
       "      <th>MCV1 (% of one-year-olds immunized)</th>\n",
       "      <th>Pol3 (% of one-year-olds immunized)</th>\n",
       "      <th>DTP3 (% of one-year-olds immunized)</th>\n",
       "      <th>Births attended by skilled health staff (% of total)</th>\n",
       "      <th>Estimated maternal deaths</th>\n",
       "      <th>Under-five mortality rate (per 100 live births)</th>\n",
       "      <th>Total number of infants death (age 0) per year</th>\n",
       "      <th>Under-fifteen mortality rate</th>\n",
       "      <th>Parent Location</th>\n",
       "      <th>Under Age 5 group</th>\n",
       "      <th>Cause of Death</th>\n",
       "      <th>Total Number of infant Death (%)</th>\n",
       "      <th>Under-five mortality (%)</th>\n",
       "      <th>Under-fifteen mortality (%)</th>\n",
       "      <th>Estimated maternal death (%)</th>\n",
       "    </tr>\n",
       "  </thead>\n",
       "  <tbody>\n",
       "    <tr>\n",
       "      <th>588</th>\n",
       "      <td>Burkina Faso</td>\n",
       "      <td>2010</td>\n",
       "      <td>1.0</td>\n",
       "      <td>99.0</td>\n",
       "      <td>91.0</td>\n",
       "      <td>92.0</td>\n",
       "      <td>90.0</td>\n",
       "      <td>91.0</td>\n",
       "      <td>23.0</td>\n",
       "      <td>2491.198</td>\n",
       "      <td>12.112398</td>\n",
       "      <td>53687.0</td>\n",
       "      <td>14.184238</td>\n",
       "      <td>Africa</td>\n",
       "      <td>0-27 days</td>\n",
       "      <td>Other communicable, perinatal and nutritional ...</td>\n",
       "      <td>0.14</td>\n",
       "      <td>0.23</td>\n",
       "      <td>0.23</td>\n",
       "      <td>0.06</td>\n",
       "    </tr>\n",
       "    <tr>\n",
       "      <th>589</th>\n",
       "      <td>Burkina Faso</td>\n",
       "      <td>2010</td>\n",
       "      <td>1.0</td>\n",
       "      <td>99.0</td>\n",
       "      <td>91.0</td>\n",
       "      <td>92.0</td>\n",
       "      <td>90.0</td>\n",
       "      <td>91.0</td>\n",
       "      <td>23.0</td>\n",
       "      <td>2491.198</td>\n",
       "      <td>12.112398</td>\n",
       "      <td>53687.0</td>\n",
       "      <td>14.184238</td>\n",
       "      <td>Africa</td>\n",
       "      <td>0-27 days</td>\n",
       "      <td>Other noncommunicable diseases</td>\n",
       "      <td>0.14</td>\n",
       "      <td>0.23</td>\n",
       "      <td>0.23</td>\n",
       "      <td>0.06</td>\n",
       "    </tr>\n",
       "  </tbody>\n",
       "</table>\n",
       "</div>"
      ],
      "text/plain": [
       "         Location  Year  \\\n",
       "588  Burkina Faso  2010   \n",
       "589  Burkina Faso  2010   \n",
       "\n",
       "     Share of population covered by health insurance (ILO (2014))  \\\n",
       "588                                                1.0              \n",
       "589                                                1.0              \n",
       "\n",
       "     BCG (% of one-year-olds immunized)  HepB3 (% of one-year-olds immunized)  \\\n",
       "588                                99.0                                  91.0   \n",
       "589                                99.0                                  91.0   \n",
       "\n",
       "     MCV1 (% of one-year-olds immunized)  Pol3 (% of one-year-olds immunized)  \\\n",
       "588                                 92.0                                 90.0   \n",
       "589                                 92.0                                 90.0   \n",
       "\n",
       "     DTP3 (% of one-year-olds immunized)  \\\n",
       "588                                 91.0   \n",
       "589                                 91.0   \n",
       "\n",
       "     Births attended by skilled health staff (% of total)  \\\n",
       "588                                               23.0      \n",
       "589                                               23.0      \n",
       "\n",
       "     Estimated maternal deaths  \\\n",
       "588                   2491.198   \n",
       "589                   2491.198   \n",
       "\n",
       "     Under-five mortality rate (per 100 live births)  \\\n",
       "588                                        12.112398   \n",
       "589                                        12.112398   \n",
       "\n",
       "     Total number of infants death (age 0) per year  \\\n",
       "588                                         53687.0   \n",
       "589                                         53687.0   \n",
       "\n",
       "     Under-fifteen mortality rate Parent Location Under Age 5 group  \\\n",
       "588                     14.184238          Africa         0-27 days   \n",
       "589                     14.184238          Africa         0-27 days   \n",
       "\n",
       "                                        Cause of Death  \\\n",
       "588  Other communicable, perinatal and nutritional ...   \n",
       "589                     Other noncommunicable diseases   \n",
       "\n",
       "     Total Number of infant Death (%)  Under-five mortality (%)  \\\n",
       "588                              0.14                      0.23   \n",
       "589                              0.14                      0.23   \n",
       "\n",
       "     Under-fifteen mortality (%)  Estimated maternal death (%)  \n",
       "588                         0.23                          0.06  \n",
       "589                         0.23                          0.06  "
      ]
     },
     "execution_count": 68,
     "metadata": {},
     "output_type": "execute_result"
    }
   ],
   "source": [
    "#calculation of the total of the 'estimated maternity death' column\n",
    "total_infant_death = africa_df['Total number of infants death (age 0) per year'].sum()\n",
    "total_under_five = africa_df['Under-five mortality rate (per 100 live births)'].sum()\n",
    "total_under_fifteen = africa_df['Under-fifteen mortality rate'].sum()\n",
    "total_maternal_death = africa_df['Estimated maternal deaths'].sum()\n",
    "\n",
    "#engineering of a new column with percentage values\n",
    "africa_df['Total Number of infant Death (%)'] = ((africa_df['Total number of infants death (age 0) per year'] / total_infant_death) * 100).round(2)\n",
    "africa_df['Under-five mortality (%)'] = ((africa_df['Under-five mortality rate (per 100 live births)'] / total_under_five) * 100).round(2)\n",
    "africa_df['Under-fifteen mortality (%)'] = ((africa_df['Under-fifteen mortality rate'] / total_under_fifteen) * 100).round(2)\n",
    "africa_df['Estimated maternal death (%)'] = ((africa_df['Estimated maternal deaths'] / total_maternal_death) * 100).round(2)\n",
    "\n",
    "\n",
    "africa_df.head(2)"
   ]
  },
  {
   "cell_type": "code",
   "execution_count": 69,
   "id": "a2a06d38-10ea-4f95-9af9-35d4346ce477",
   "metadata": {},
   "outputs": [
    {
     "data": {
      "text/plain": [
       "Location\n",
       "Burkina Faso                 5.88\n",
       "Central African Republic     2.10\n",
       "Djibouti                     0.00\n",
       "Egypt                        6.30\n",
       "Kenya                        6.72\n",
       "Lesotho                      0.42\n",
       "Madagascar                   4.20\n",
       "Mauritius                    0.00\n",
       "Namibia                      0.42\n",
       "Nigeria                     64.68\n",
       "Rwanda                       1.68\n",
       "Sao Tome and Principe        0.00\n",
       "Sierra Leone                 2.94\n",
       "Togo                         1.68\n",
       "Zimbabwe                     2.94\n",
       "Name: Total Number of infant Death (%), dtype: float64"
      ]
     },
     "execution_count": 69,
     "metadata": {},
     "output_type": "execute_result"
    }
   ],
   "source": [
    "africa_df.groupby('Location')['Total Number of infant Death (%)'].sum()"
   ]
  },
  {
   "cell_type": "code",
   "execution_count": 70,
   "id": "45367039-cce8-492c-bf87-19bf5f6757b0",
   "metadata": {},
   "outputs": [
    {
     "name": "stderr",
     "output_type": "stream",
     "text": [
      "C:\\Users\\HP\\AppData\\Local\\Temp\\ipykernel_724\\1911481374.py:8: SettingWithCopyWarning: \n",
      "A value is trying to be set on a copy of a slice from a DataFrame.\n",
      "Try using .loc[row_indexer,col_indexer] = value instead\n",
      "\n",
      "See the caveats in the documentation: https://pandas.pydata.org/pandas-docs/stable/user_guide/indexing.html#returning-a-view-versus-a-copy\n",
      "  africa_df['Total Number of infant Death (%)'] = africa_df['Location'].map(location_values)\n"
     ]
    },
    {
     "data": {
      "text/html": [
       "<div>\n",
       "<style scoped>\n",
       "    .dataframe tbody tr th:only-of-type {\n",
       "        vertical-align: middle;\n",
       "    }\n",
       "\n",
       "    .dataframe tbody tr th {\n",
       "        vertical-align: top;\n",
       "    }\n",
       "\n",
       "    .dataframe thead th {\n",
       "        text-align: right;\n",
       "    }\n",
       "</style>\n",
       "<table border=\"1\" class=\"dataframe\">\n",
       "  <thead>\n",
       "    <tr style=\"text-align: right;\">\n",
       "      <th></th>\n",
       "      <th>Location</th>\n",
       "      <th>Year</th>\n",
       "      <th>Share of population covered by health insurance (ILO (2014))</th>\n",
       "      <th>BCG (% of one-year-olds immunized)</th>\n",
       "      <th>HepB3 (% of one-year-olds immunized)</th>\n",
       "      <th>MCV1 (% of one-year-olds immunized)</th>\n",
       "      <th>Pol3 (% of one-year-olds immunized)</th>\n",
       "      <th>DTP3 (% of one-year-olds immunized)</th>\n",
       "      <th>Births attended by skilled health staff (% of total)</th>\n",
       "      <th>Estimated maternal deaths</th>\n",
       "      <th>Under-five mortality rate (per 100 live births)</th>\n",
       "      <th>Total number of infants death (age 0) per year</th>\n",
       "      <th>Under-fifteen mortality rate</th>\n",
       "      <th>Parent Location</th>\n",
       "      <th>Under Age 5 group</th>\n",
       "      <th>Cause of Death</th>\n",
       "      <th>Total Number of infant Death (%)</th>\n",
       "      <th>Under-five mortality (%)</th>\n",
       "      <th>Under-fifteen mortality (%)</th>\n",
       "      <th>Estimated maternal death (%)</th>\n",
       "    </tr>\n",
       "  </thead>\n",
       "  <tbody>\n",
       "    <tr>\n",
       "      <th>588</th>\n",
       "      <td>Burkina Faso</td>\n",
       "      <td>2010</td>\n",
       "      <td>1.0</td>\n",
       "      <td>99.0</td>\n",
       "      <td>91.0</td>\n",
       "      <td>92.0</td>\n",
       "      <td>90.0</td>\n",
       "      <td>91.0</td>\n",
       "      <td>23.0</td>\n",
       "      <td>2491.198</td>\n",
       "      <td>12.112398</td>\n",
       "      <td>53687.0</td>\n",
       "      <td>14.184238</td>\n",
       "      <td>Africa</td>\n",
       "      <td>0-27 days</td>\n",
       "      <td>Other communicable, perinatal and nutritional ...</td>\n",
       "      <td>5.88</td>\n",
       "      <td>0.23</td>\n",
       "      <td>0.23</td>\n",
       "      <td>0.06</td>\n",
       "    </tr>\n",
       "    <tr>\n",
       "      <th>589</th>\n",
       "      <td>Burkina Faso</td>\n",
       "      <td>2010</td>\n",
       "      <td>1.0</td>\n",
       "      <td>99.0</td>\n",
       "      <td>91.0</td>\n",
       "      <td>92.0</td>\n",
       "      <td>90.0</td>\n",
       "      <td>91.0</td>\n",
       "      <td>23.0</td>\n",
       "      <td>2491.198</td>\n",
       "      <td>12.112398</td>\n",
       "      <td>53687.0</td>\n",
       "      <td>14.184238</td>\n",
       "      <td>Africa</td>\n",
       "      <td>0-27 days</td>\n",
       "      <td>Other noncommunicable diseases</td>\n",
       "      <td>5.88</td>\n",
       "      <td>0.23</td>\n",
       "      <td>0.23</td>\n",
       "      <td>0.06</td>\n",
       "    </tr>\n",
       "  </tbody>\n",
       "</table>\n",
       "</div>"
      ],
      "text/plain": [
       "         Location  Year  \\\n",
       "588  Burkina Faso  2010   \n",
       "589  Burkina Faso  2010   \n",
       "\n",
       "     Share of population covered by health insurance (ILO (2014))  \\\n",
       "588                                                1.0              \n",
       "589                                                1.0              \n",
       "\n",
       "     BCG (% of one-year-olds immunized)  HepB3 (% of one-year-olds immunized)  \\\n",
       "588                                99.0                                  91.0   \n",
       "589                                99.0                                  91.0   \n",
       "\n",
       "     MCV1 (% of one-year-olds immunized)  Pol3 (% of one-year-olds immunized)  \\\n",
       "588                                 92.0                                 90.0   \n",
       "589                                 92.0                                 90.0   \n",
       "\n",
       "     DTP3 (% of one-year-olds immunized)  \\\n",
       "588                                 91.0   \n",
       "589                                 91.0   \n",
       "\n",
       "     Births attended by skilled health staff (% of total)  \\\n",
       "588                                               23.0      \n",
       "589                                               23.0      \n",
       "\n",
       "     Estimated maternal deaths  \\\n",
       "588                   2491.198   \n",
       "589                   2491.198   \n",
       "\n",
       "     Under-five mortality rate (per 100 live births)  \\\n",
       "588                                        12.112398   \n",
       "589                                        12.112398   \n",
       "\n",
       "     Total number of infants death (age 0) per year  \\\n",
       "588                                         53687.0   \n",
       "589                                         53687.0   \n",
       "\n",
       "     Under-fifteen mortality rate Parent Location Under Age 5 group  \\\n",
       "588                     14.184238          Africa         0-27 days   \n",
       "589                     14.184238          Africa         0-27 days   \n",
       "\n",
       "                                        Cause of Death  \\\n",
       "588  Other communicable, perinatal and nutritional ...   \n",
       "589                     Other noncommunicable diseases   \n",
       "\n",
       "     Total Number of infant Death (%)  Under-five mortality (%)  \\\n",
       "588                              5.88                      0.23   \n",
       "589                              5.88                      0.23   \n",
       "\n",
       "     Under-fifteen mortality (%)  Estimated maternal death (%)  \n",
       "588                         0.23                          0.06  \n",
       "589                         0.23                          0.06  "
      ]
     },
     "execution_count": 70,
     "metadata": {},
     "output_type": "execute_result"
    }
   ],
   "source": [
    "#creating a mapping dictionary\n",
    "location_values = {'Burkina Faso': 5.88, 'Central African Republic': 2.10, 'Djibouti': 0.00, 'Egypt' : 6.30,\n",
    "                  'Kenya' : 6.72, 'Lesotho' : 0.42, 'Madagascar' : 4.20, 'Mauritius' : 0.00, 'Namibia' : 0.42,\n",
    "                  'Nigeria' : 64.68, 'Rwanda' : 1.68, 'Sao Tome and Principe' : 0.00, 'Sierra Leone' : 2.94,\n",
    "                   'Togo' : 1.68, 'Zimbabwe' : 2.94}\n",
    "\n",
    "#mapping the values to the 'Value' column based on the location column\n",
    "africa_df['Total Number of infant Death (%)'] = africa_df['Location'].map(location_values)\n",
    "\n",
    "africa_df.head(2)"
   ]
  },
  {
   "cell_type": "code",
   "execution_count": 71,
   "id": "68a229e2-9dd9-4b5a-aa66-005809b3324c",
   "metadata": {},
   "outputs": [
    {
     "data": {
      "text/plain": [
       "Location\n",
       "Burkina Faso                 9.66\n",
       "Central African Republic    10.50\n",
       "Djibouti                     6.72\n",
       "Egypt                        2.52\n",
       "Kenya                        4.20\n",
       "Lesotho                      7.98\n",
       "Madagascar                   5.88\n",
       "Mauritius                    1.26\n",
       "Namibia                      4.62\n",
       "Nigeria                     10.92\n",
       "Rwanda                       5.04\n",
       "Sao Tome and Principe        2.94\n",
       "Sierra Leone                13.86\n",
       "Togo                         7.14\n",
       "Zimbabwe                     7.14\n",
       "Name: Under-five mortality (%), dtype: float64"
      ]
     },
     "execution_count": 71,
     "metadata": {},
     "output_type": "execute_result"
    }
   ],
   "source": [
    "africa_df.groupby('Location')['Under-five mortality (%)'].sum()"
   ]
  },
  {
   "cell_type": "code",
   "execution_count": 72,
   "id": "a50eae3e-1951-4005-9290-0a51fb375ab2",
   "metadata": {},
   "outputs": [
    {
     "name": "stderr",
     "output_type": "stream",
     "text": [
      "C:\\Users\\HP\\AppData\\Local\\Temp\\ipykernel_724\\2229101498.py:8: SettingWithCopyWarning: \n",
      "A value is trying to be set on a copy of a slice from a DataFrame.\n",
      "Try using .loc[row_indexer,col_indexer] = value instead\n",
      "\n",
      "See the caveats in the documentation: https://pandas.pydata.org/pandas-docs/stable/user_guide/indexing.html#returning-a-view-versus-a-copy\n",
      "  africa_df['Under-five mortality (%)'] = africa_df['Location'].map(location_values)\n"
     ]
    },
    {
     "data": {
      "text/html": [
       "<div>\n",
       "<style scoped>\n",
       "    .dataframe tbody tr th:only-of-type {\n",
       "        vertical-align: middle;\n",
       "    }\n",
       "\n",
       "    .dataframe tbody tr th {\n",
       "        vertical-align: top;\n",
       "    }\n",
       "\n",
       "    .dataframe thead th {\n",
       "        text-align: right;\n",
       "    }\n",
       "</style>\n",
       "<table border=\"1\" class=\"dataframe\">\n",
       "  <thead>\n",
       "    <tr style=\"text-align: right;\">\n",
       "      <th></th>\n",
       "      <th>Location</th>\n",
       "      <th>Year</th>\n",
       "      <th>Share of population covered by health insurance (ILO (2014))</th>\n",
       "      <th>BCG (% of one-year-olds immunized)</th>\n",
       "      <th>HepB3 (% of one-year-olds immunized)</th>\n",
       "      <th>MCV1 (% of one-year-olds immunized)</th>\n",
       "      <th>Pol3 (% of one-year-olds immunized)</th>\n",
       "      <th>DTP3 (% of one-year-olds immunized)</th>\n",
       "      <th>Births attended by skilled health staff (% of total)</th>\n",
       "      <th>Estimated maternal deaths</th>\n",
       "      <th>Under-five mortality rate (per 100 live births)</th>\n",
       "      <th>Total number of infants death (age 0) per year</th>\n",
       "      <th>Under-fifteen mortality rate</th>\n",
       "      <th>Parent Location</th>\n",
       "      <th>Under Age 5 group</th>\n",
       "      <th>Cause of Death</th>\n",
       "      <th>Total Number of infant Death (%)</th>\n",
       "      <th>Under-five mortality (%)</th>\n",
       "      <th>Under-fifteen mortality (%)</th>\n",
       "      <th>Estimated maternal death (%)</th>\n",
       "    </tr>\n",
       "  </thead>\n",
       "  <tbody>\n",
       "    <tr>\n",
       "      <th>588</th>\n",
       "      <td>Burkina Faso</td>\n",
       "      <td>2010</td>\n",
       "      <td>1.0</td>\n",
       "      <td>99.0</td>\n",
       "      <td>91.0</td>\n",
       "      <td>92.0</td>\n",
       "      <td>90.0</td>\n",
       "      <td>91.0</td>\n",
       "      <td>23.0</td>\n",
       "      <td>2491.198</td>\n",
       "      <td>12.112398</td>\n",
       "      <td>53687.0</td>\n",
       "      <td>14.184238</td>\n",
       "      <td>Africa</td>\n",
       "      <td>0-27 days</td>\n",
       "      <td>Other communicable, perinatal and nutritional ...</td>\n",
       "      <td>5.88</td>\n",
       "      <td>9.66</td>\n",
       "      <td>0.23</td>\n",
       "      <td>0.06</td>\n",
       "    </tr>\n",
       "    <tr>\n",
       "      <th>589</th>\n",
       "      <td>Burkina Faso</td>\n",
       "      <td>2010</td>\n",
       "      <td>1.0</td>\n",
       "      <td>99.0</td>\n",
       "      <td>91.0</td>\n",
       "      <td>92.0</td>\n",
       "      <td>90.0</td>\n",
       "      <td>91.0</td>\n",
       "      <td>23.0</td>\n",
       "      <td>2491.198</td>\n",
       "      <td>12.112398</td>\n",
       "      <td>53687.0</td>\n",
       "      <td>14.184238</td>\n",
       "      <td>Africa</td>\n",
       "      <td>0-27 days</td>\n",
       "      <td>Other noncommunicable diseases</td>\n",
       "      <td>5.88</td>\n",
       "      <td>9.66</td>\n",
       "      <td>0.23</td>\n",
       "      <td>0.06</td>\n",
       "    </tr>\n",
       "  </tbody>\n",
       "</table>\n",
       "</div>"
      ],
      "text/plain": [
       "         Location  Year  \\\n",
       "588  Burkina Faso  2010   \n",
       "589  Burkina Faso  2010   \n",
       "\n",
       "     Share of population covered by health insurance (ILO (2014))  \\\n",
       "588                                                1.0              \n",
       "589                                                1.0              \n",
       "\n",
       "     BCG (% of one-year-olds immunized)  HepB3 (% of one-year-olds immunized)  \\\n",
       "588                                99.0                                  91.0   \n",
       "589                                99.0                                  91.0   \n",
       "\n",
       "     MCV1 (% of one-year-olds immunized)  Pol3 (% of one-year-olds immunized)  \\\n",
       "588                                 92.0                                 90.0   \n",
       "589                                 92.0                                 90.0   \n",
       "\n",
       "     DTP3 (% of one-year-olds immunized)  \\\n",
       "588                                 91.0   \n",
       "589                                 91.0   \n",
       "\n",
       "     Births attended by skilled health staff (% of total)  \\\n",
       "588                                               23.0      \n",
       "589                                               23.0      \n",
       "\n",
       "     Estimated maternal deaths  \\\n",
       "588                   2491.198   \n",
       "589                   2491.198   \n",
       "\n",
       "     Under-five mortality rate (per 100 live births)  \\\n",
       "588                                        12.112398   \n",
       "589                                        12.112398   \n",
       "\n",
       "     Total number of infants death (age 0) per year  \\\n",
       "588                                         53687.0   \n",
       "589                                         53687.0   \n",
       "\n",
       "     Under-fifteen mortality rate Parent Location Under Age 5 group  \\\n",
       "588                     14.184238          Africa         0-27 days   \n",
       "589                     14.184238          Africa         0-27 days   \n",
       "\n",
       "                                        Cause of Death  \\\n",
       "588  Other communicable, perinatal and nutritional ...   \n",
       "589                     Other noncommunicable diseases   \n",
       "\n",
       "     Total Number of infant Death (%)  Under-five mortality (%)  \\\n",
       "588                              5.88                      9.66   \n",
       "589                              5.88                      9.66   \n",
       "\n",
       "     Under-fifteen mortality (%)  Estimated maternal death (%)  \n",
       "588                         0.23                          0.06  \n",
       "589                         0.23                          0.06  "
      ]
     },
     "execution_count": 72,
     "metadata": {},
     "output_type": "execute_result"
    }
   ],
   "source": [
    "#creating a mapping dictionary\n",
    "location_values = {'Burkina Faso': 9.66, 'Central African Republic': 10.50, 'Djibouti': 6.72, 'Egypt' : 2.52,\n",
    "                  'Kenya' : 4.20, 'Lesotho' : 7.98, 'Madagascar' : 5.88, 'Mauritius' : 1.26, 'Namibia' : 4.62,\n",
    "                  'Nigeria' : 10.92, 'Rwanda' : 5.04, 'Sao Tome and Principe' : 2.94, 'Sierra Leone' : 13.86,\n",
    "                   'Togo' : 7.14, 'Zimbabwe' : 7.14}\n",
    "\n",
    "#mapping the location values into the coulumn\n",
    "africa_df['Under-five mortality (%)'] = africa_df['Location'].map(location_values)\n",
    "\n",
    "africa_df.head(2)"
   ]
  },
  {
   "cell_type": "code",
   "execution_count": 73,
   "id": "22db82aa-d867-4abb-94dd-0d9e641302d7",
   "metadata": {},
   "outputs": [
    {
     "data": {
      "text/plain": [
       "Location\n",
       "Burkina Faso                 9.66\n",
       "Central African Republic    10.92\n",
       "Djibouti                     6.72\n",
       "Egypt                        2.52\n",
       "Kenya                        4.20\n",
       "Lesotho                      7.56\n",
       "Madagascar                   5.88\n",
       "Mauritius                    1.26\n",
       "Namibia                      5.04\n",
       "Nigeria                     10.92\n",
       "Rwanda                       5.46\n",
       "Sao Tome and Principe        3.36\n",
       "Sierra Leone                13.02\n",
       "Togo                         7.14\n",
       "Zimbabwe                     7.14\n",
       "Name: Under-fifteen mortality (%), dtype: float64"
      ]
     },
     "execution_count": 73,
     "metadata": {},
     "output_type": "execute_result"
    }
   ],
   "source": [
    "africa_df.groupby('Location')['Under-fifteen mortality (%)'].sum()"
   ]
  },
  {
   "cell_type": "code",
   "execution_count": 74,
   "id": "6a438c26-7e6a-4a51-a2f1-95abcdbbbfd7",
   "metadata": {},
   "outputs": [
    {
     "name": "stderr",
     "output_type": "stream",
     "text": [
      "C:\\Users\\HP\\AppData\\Local\\Temp\\ipykernel_724\\2213674151.py:8: SettingWithCopyWarning: \n",
      "A value is trying to be set on a copy of a slice from a DataFrame.\n",
      "Try using .loc[row_indexer,col_indexer] = value instead\n",
      "\n",
      "See the caveats in the documentation: https://pandas.pydata.org/pandas-docs/stable/user_guide/indexing.html#returning-a-view-versus-a-copy\n",
      "  africa_df['Under-fifteen mortality (%)'] = africa_df['Location'].map(location_values)\n"
     ]
    },
    {
     "data": {
      "text/html": [
       "<div>\n",
       "<style scoped>\n",
       "    .dataframe tbody tr th:only-of-type {\n",
       "        vertical-align: middle;\n",
       "    }\n",
       "\n",
       "    .dataframe tbody tr th {\n",
       "        vertical-align: top;\n",
       "    }\n",
       "\n",
       "    .dataframe thead th {\n",
       "        text-align: right;\n",
       "    }\n",
       "</style>\n",
       "<table border=\"1\" class=\"dataframe\">\n",
       "  <thead>\n",
       "    <tr style=\"text-align: right;\">\n",
       "      <th></th>\n",
       "      <th>Location</th>\n",
       "      <th>Year</th>\n",
       "      <th>Share of population covered by health insurance (ILO (2014))</th>\n",
       "      <th>BCG (% of one-year-olds immunized)</th>\n",
       "      <th>HepB3 (% of one-year-olds immunized)</th>\n",
       "      <th>MCV1 (% of one-year-olds immunized)</th>\n",
       "      <th>Pol3 (% of one-year-olds immunized)</th>\n",
       "      <th>DTP3 (% of one-year-olds immunized)</th>\n",
       "      <th>Births attended by skilled health staff (% of total)</th>\n",
       "      <th>Estimated maternal deaths</th>\n",
       "      <th>Under-five mortality rate (per 100 live births)</th>\n",
       "      <th>Total number of infants death (age 0) per year</th>\n",
       "      <th>Under-fifteen mortality rate</th>\n",
       "      <th>Parent Location</th>\n",
       "      <th>Under Age 5 group</th>\n",
       "      <th>Cause of Death</th>\n",
       "      <th>Total Number of infant Death (%)</th>\n",
       "      <th>Under-five mortality (%)</th>\n",
       "      <th>Under-fifteen mortality (%)</th>\n",
       "      <th>Estimated maternal death (%)</th>\n",
       "    </tr>\n",
       "  </thead>\n",
       "  <tbody>\n",
       "    <tr>\n",
       "      <th>588</th>\n",
       "      <td>Burkina Faso</td>\n",
       "      <td>2010</td>\n",
       "      <td>1.0</td>\n",
       "      <td>99.0</td>\n",
       "      <td>91.0</td>\n",
       "      <td>92.0</td>\n",
       "      <td>90.0</td>\n",
       "      <td>91.0</td>\n",
       "      <td>23.0</td>\n",
       "      <td>2491.198</td>\n",
       "      <td>12.112398</td>\n",
       "      <td>53687.0</td>\n",
       "      <td>14.184238</td>\n",
       "      <td>Africa</td>\n",
       "      <td>0-27 days</td>\n",
       "      <td>Other communicable, perinatal and nutritional ...</td>\n",
       "      <td>5.88</td>\n",
       "      <td>9.66</td>\n",
       "      <td>9.66</td>\n",
       "      <td>0.06</td>\n",
       "    </tr>\n",
       "    <tr>\n",
       "      <th>589</th>\n",
       "      <td>Burkina Faso</td>\n",
       "      <td>2010</td>\n",
       "      <td>1.0</td>\n",
       "      <td>99.0</td>\n",
       "      <td>91.0</td>\n",
       "      <td>92.0</td>\n",
       "      <td>90.0</td>\n",
       "      <td>91.0</td>\n",
       "      <td>23.0</td>\n",
       "      <td>2491.198</td>\n",
       "      <td>12.112398</td>\n",
       "      <td>53687.0</td>\n",
       "      <td>14.184238</td>\n",
       "      <td>Africa</td>\n",
       "      <td>0-27 days</td>\n",
       "      <td>Other noncommunicable diseases</td>\n",
       "      <td>5.88</td>\n",
       "      <td>9.66</td>\n",
       "      <td>9.66</td>\n",
       "      <td>0.06</td>\n",
       "    </tr>\n",
       "  </tbody>\n",
       "</table>\n",
       "</div>"
      ],
      "text/plain": [
       "         Location  Year  \\\n",
       "588  Burkina Faso  2010   \n",
       "589  Burkina Faso  2010   \n",
       "\n",
       "     Share of population covered by health insurance (ILO (2014))  \\\n",
       "588                                                1.0              \n",
       "589                                                1.0              \n",
       "\n",
       "     BCG (% of one-year-olds immunized)  HepB3 (% of one-year-olds immunized)  \\\n",
       "588                                99.0                                  91.0   \n",
       "589                                99.0                                  91.0   \n",
       "\n",
       "     MCV1 (% of one-year-olds immunized)  Pol3 (% of one-year-olds immunized)  \\\n",
       "588                                 92.0                                 90.0   \n",
       "589                                 92.0                                 90.0   \n",
       "\n",
       "     DTP3 (% of one-year-olds immunized)  \\\n",
       "588                                 91.0   \n",
       "589                                 91.0   \n",
       "\n",
       "     Births attended by skilled health staff (% of total)  \\\n",
       "588                                               23.0      \n",
       "589                                               23.0      \n",
       "\n",
       "     Estimated maternal deaths  \\\n",
       "588                   2491.198   \n",
       "589                   2491.198   \n",
       "\n",
       "     Under-five mortality rate (per 100 live births)  \\\n",
       "588                                        12.112398   \n",
       "589                                        12.112398   \n",
       "\n",
       "     Total number of infants death (age 0) per year  \\\n",
       "588                                         53687.0   \n",
       "589                                         53687.0   \n",
       "\n",
       "     Under-fifteen mortality rate Parent Location Under Age 5 group  \\\n",
       "588                     14.184238          Africa         0-27 days   \n",
       "589                     14.184238          Africa         0-27 days   \n",
       "\n",
       "                                        Cause of Death  \\\n",
       "588  Other communicable, perinatal and nutritional ...   \n",
       "589                     Other noncommunicable diseases   \n",
       "\n",
       "     Total Number of infant Death (%)  Under-five mortality (%)  \\\n",
       "588                              5.88                      9.66   \n",
       "589                              5.88                      9.66   \n",
       "\n",
       "     Under-fifteen mortality (%)  Estimated maternal death (%)  \n",
       "588                         9.66                          0.06  \n",
       "589                         9.66                          0.06  "
      ]
     },
     "execution_count": 74,
     "metadata": {},
     "output_type": "execute_result"
    }
   ],
   "source": [
    "#creating a mapping dictionary\n",
    "location_values = {'Burkina Faso': 9.66, 'Central African Republic': 10.50, 'Djibouti': 6.72, 'Egypt' : 2.52,\n",
    "                  'Kenya' : 4.20, 'Lesotho' : 7.98, 'Madagascar' : 5.88, 'Mauritius' : 1.26, 'Namibia' : 4.62,\n",
    "                  'Nigeria' : 10.92, 'Rwanda' : 5.04, 'Sao Tome and Principe' : 2.94, 'Sierra Leone' : 13.86,\n",
    "                   'Togo' : 7.14, 'Zimbabwe' : 7.14}\n",
    "\n",
    "#mapping the location values into the coulumn\n",
    "africa_df['Under-fifteen mortality (%)'] = africa_df['Location'].map(location_values)\n",
    "\n",
    "africa_df.head(2)"
   ]
  },
  {
   "cell_type": "code",
   "execution_count": 75,
   "id": "89021978-11d1-42b0-9c1e-d6679e2e9f3f",
   "metadata": {},
   "outputs": [
    {
     "data": {
      "text/plain": [
       "Location\n",
       "Burkina Faso                 2.52\n",
       "Central African Republic     2.10\n",
       "Djibouti                     0.00\n",
       "Egypt                        0.84\n",
       "Kenya                        7.14\n",
       "Lesotho                      0.84\n",
       "Madagascar                   4.20\n",
       "Mauritius                    0.00\n",
       "Namibia                      0.42\n",
       "Nigeria                     73.50\n",
       "Rwanda                       1.26\n",
       "Sao Tome and Principe        0.00\n",
       "Sierra Leone                 2.52\n",
       "Togo                         1.26\n",
       "Zimbabwe                     3.36\n",
       "Name: Estimated maternal death (%), dtype: float64"
      ]
     },
     "execution_count": 75,
     "metadata": {},
     "output_type": "execute_result"
    }
   ],
   "source": [
    "africa_df.groupby('Location')['Estimated maternal death (%)'].sum()"
   ]
  },
  {
   "cell_type": "code",
   "execution_count": 76,
   "id": "890b421e-b01a-440b-a1a0-46b914685081",
   "metadata": {},
   "outputs": [
    {
     "name": "stderr",
     "output_type": "stream",
     "text": [
      "C:\\Users\\HP\\AppData\\Local\\Temp\\ipykernel_724\\809096597.py:8: SettingWithCopyWarning: \n",
      "A value is trying to be set on a copy of a slice from a DataFrame.\n",
      "Try using .loc[row_indexer,col_indexer] = value instead\n",
      "\n",
      "See the caveats in the documentation: https://pandas.pydata.org/pandas-docs/stable/user_guide/indexing.html#returning-a-view-versus-a-copy\n",
      "  africa_df['Estimated maternal death (%)'] = africa_df['Location'].map(location_values)\n"
     ]
    },
    {
     "data": {
      "text/html": [
       "<div>\n",
       "<style scoped>\n",
       "    .dataframe tbody tr th:only-of-type {\n",
       "        vertical-align: middle;\n",
       "    }\n",
       "\n",
       "    .dataframe tbody tr th {\n",
       "        vertical-align: top;\n",
       "    }\n",
       "\n",
       "    .dataframe thead th {\n",
       "        text-align: right;\n",
       "    }\n",
       "</style>\n",
       "<table border=\"1\" class=\"dataframe\">\n",
       "  <thead>\n",
       "    <tr style=\"text-align: right;\">\n",
       "      <th></th>\n",
       "      <th>Location</th>\n",
       "      <th>Year</th>\n",
       "      <th>Share of population covered by health insurance (ILO (2014))</th>\n",
       "      <th>BCG (% of one-year-olds immunized)</th>\n",
       "      <th>HepB3 (% of one-year-olds immunized)</th>\n",
       "      <th>MCV1 (% of one-year-olds immunized)</th>\n",
       "      <th>Pol3 (% of one-year-olds immunized)</th>\n",
       "      <th>DTP3 (% of one-year-olds immunized)</th>\n",
       "      <th>Births attended by skilled health staff (% of total)</th>\n",
       "      <th>Estimated maternal deaths</th>\n",
       "      <th>Under-five mortality rate (per 100 live births)</th>\n",
       "      <th>Total number of infants death (age 0) per year</th>\n",
       "      <th>Under-fifteen mortality rate</th>\n",
       "      <th>Parent Location</th>\n",
       "      <th>Under Age 5 group</th>\n",
       "      <th>Cause of Death</th>\n",
       "      <th>Total Number of infant Death (%)</th>\n",
       "      <th>Under-five mortality (%)</th>\n",
       "      <th>Under-fifteen mortality (%)</th>\n",
       "      <th>Estimated maternal death (%)</th>\n",
       "    </tr>\n",
       "  </thead>\n",
       "  <tbody>\n",
       "    <tr>\n",
       "      <th>588</th>\n",
       "      <td>Burkina Faso</td>\n",
       "      <td>2010</td>\n",
       "      <td>1.0</td>\n",
       "      <td>99.0</td>\n",
       "      <td>91.0</td>\n",
       "      <td>92.0</td>\n",
       "      <td>90.0</td>\n",
       "      <td>91.0</td>\n",
       "      <td>23.0</td>\n",
       "      <td>2491.198</td>\n",
       "      <td>12.112398</td>\n",
       "      <td>53687.0</td>\n",
       "      <td>14.184238</td>\n",
       "      <td>Africa</td>\n",
       "      <td>0-27 days</td>\n",
       "      <td>Other communicable, perinatal and nutritional ...</td>\n",
       "      <td>5.88</td>\n",
       "      <td>9.66</td>\n",
       "      <td>9.66</td>\n",
       "      <td>2.52</td>\n",
       "    </tr>\n",
       "    <tr>\n",
       "      <th>589</th>\n",
       "      <td>Burkina Faso</td>\n",
       "      <td>2010</td>\n",
       "      <td>1.0</td>\n",
       "      <td>99.0</td>\n",
       "      <td>91.0</td>\n",
       "      <td>92.0</td>\n",
       "      <td>90.0</td>\n",
       "      <td>91.0</td>\n",
       "      <td>23.0</td>\n",
       "      <td>2491.198</td>\n",
       "      <td>12.112398</td>\n",
       "      <td>53687.0</td>\n",
       "      <td>14.184238</td>\n",
       "      <td>Africa</td>\n",
       "      <td>0-27 days</td>\n",
       "      <td>Other noncommunicable diseases</td>\n",
       "      <td>5.88</td>\n",
       "      <td>9.66</td>\n",
       "      <td>9.66</td>\n",
       "      <td>2.52</td>\n",
       "    </tr>\n",
       "  </tbody>\n",
       "</table>\n",
       "</div>"
      ],
      "text/plain": [
       "         Location  Year  \\\n",
       "588  Burkina Faso  2010   \n",
       "589  Burkina Faso  2010   \n",
       "\n",
       "     Share of population covered by health insurance (ILO (2014))  \\\n",
       "588                                                1.0              \n",
       "589                                                1.0              \n",
       "\n",
       "     BCG (% of one-year-olds immunized)  HepB3 (% of one-year-olds immunized)  \\\n",
       "588                                99.0                                  91.0   \n",
       "589                                99.0                                  91.0   \n",
       "\n",
       "     MCV1 (% of one-year-olds immunized)  Pol3 (% of one-year-olds immunized)  \\\n",
       "588                                 92.0                                 90.0   \n",
       "589                                 92.0                                 90.0   \n",
       "\n",
       "     DTP3 (% of one-year-olds immunized)  \\\n",
       "588                                 91.0   \n",
       "589                                 91.0   \n",
       "\n",
       "     Births attended by skilled health staff (% of total)  \\\n",
       "588                                               23.0      \n",
       "589                                               23.0      \n",
       "\n",
       "     Estimated maternal deaths  \\\n",
       "588                   2491.198   \n",
       "589                   2491.198   \n",
       "\n",
       "     Under-five mortality rate (per 100 live births)  \\\n",
       "588                                        12.112398   \n",
       "589                                        12.112398   \n",
       "\n",
       "     Total number of infants death (age 0) per year  \\\n",
       "588                                         53687.0   \n",
       "589                                         53687.0   \n",
       "\n",
       "     Under-fifteen mortality rate Parent Location Under Age 5 group  \\\n",
       "588                     14.184238          Africa         0-27 days   \n",
       "589                     14.184238          Africa         0-27 days   \n",
       "\n",
       "                                        Cause of Death  \\\n",
       "588  Other communicable, perinatal and nutritional ...   \n",
       "589                     Other noncommunicable diseases   \n",
       "\n",
       "     Total Number of infant Death (%)  Under-five mortality (%)  \\\n",
       "588                              5.88                      9.66   \n",
       "589                              5.88                      9.66   \n",
       "\n",
       "     Under-fifteen mortality (%)  Estimated maternal death (%)  \n",
       "588                         9.66                          2.52  \n",
       "589                         9.66                          2.52  "
      ]
     },
     "execution_count": 76,
     "metadata": {},
     "output_type": "execute_result"
    }
   ],
   "source": [
    "#creating a mapping dictionary\n",
    "location_values = {'Burkina Faso': 2.52, 'Central African Republic': 2.10, 'Djibouti': 0.00, 'Egypt' : 0.84,\n",
    "                  'Kenya' : 7.14, 'Lesotho' : 0.84, 'Madagascar' : 4.20, 'Mauritius' : 0.00, 'Namibia' : 0.42,\n",
    "                  'Nigeria' : 73.50, 'Rwanda' : 1.26, 'Sao Tome and Principe' : 0.00, 'Sierra Leone' : 2.52,\n",
    "                   'Togo' : 1.26, 'Zimbabwe' : 3.36}\n",
    "\n",
    "#mapping a location values into the coulumn\n",
    "africa_df['Estimated maternal death (%)'] = africa_df['Location'].map(location_values)\n",
    "\n",
    "africa_df.head(2)"
   ]
  },
  {
   "cell_type": "markdown",
   "id": "3dfda002-b09a-43cb-9e35-c57fb89e7878",
   "metadata": {},
   "source": [
    "1. Identify socioeconomic, healthcare, and environmental factors contributing to high mortality rates."
   ]
  },
  {
   "cell_type": "markdown",
   "id": "a0fd29e1-4d17-48b4-acdd-3e23470cd2e9",
   "metadata": {},
   "source": [
    "Socioeconomic factors contributing to high mortality rates"
   ]
  },
  {
   "cell_type": "markdown",
   "id": "6140f32c-a105-4bfc-9f2c-00a4ee05cceb",
   "metadata": {},
   "source": [
    "For the socioeconomic factors, will be checking for the impact of the share of population covered by health insurance on the mortality indicators (Under-five mortality rate (per 100 live births), Total number of infants death (age 0) per year and Under-fifteen mortality rate)"
   ]
  },
  {
   "cell_type": "code",
   "execution_count": 77,
   "id": "40add8c7-f454-447f-8416-8087769e1fca",
   "metadata": {},
   "outputs": [
    {
     "name": "stderr",
     "output_type": "stream",
     "text": [
      "C:\\Users\\HP\\AppData\\Local\\Temp\\ipykernel_724\\2487672321.py:7: SettingWithCopyWarning: \n",
      "A value is trying to be set on a copy of a slice from a DataFrame.\n",
      "Try using .loc[row_indexer,col_indexer] = value instead\n",
      "\n",
      "See the caveats in the documentation: https://pandas.pydata.org/pandas-docs/stable/user_guide/indexing.html#returning-a-view-versus-a-copy\n",
      "  africa_df['Insurance Bin'] = pd.cut(africa_df['Share of population covered by health insurance (ILO (2014))'], bins=bins, labels=labels)\n",
      "C:\\Users\\HP\\AppData\\Local\\Temp\\ipykernel_724\\2487672321.py:10: FutureWarning: The default of observed=False is deprecated and will be changed to True in a future version of pandas. Pass observed=False to retain current behavior or observed=True to adopt the future default and silence this warning.\n",
      "  bar_data = africa_df.groupby('Insurance Bin')['Under-five mortality (%)'].count().reset_index()\n",
      "C:\\Users\\HP\\anaconda3\\Lib\\site-packages\\seaborn\\categorical.py:641: FutureWarning: The default of observed=False is deprecated and will be changed to True in a future version of pandas. Pass observed=False to retain current behavior or observed=True to adopt the future default and silence this warning.\n",
      "  grouped_vals = vals.groupby(grouper)\n"
     ]
    },
    {
     "data": {
      "image/png": "[encoded data removed]",
      "text/plain": [
       "<Figure size 640x480 with 1 Axes>"
      ]
     },
     "metadata": {},
     "output_type": "display_data"
    }
   ],
   "source": [
    "#impact of health insurance and under five mortality rate\n",
    "#creating bins and labels for grouping of the insurance coverage data\n",
    "bins = [0, 20, 40, 60, 80, 100]\n",
    "labels = ['0-20%', '20-40%', '40-60%', '60-80%', '80-100%']\n",
    "\n",
    "#using the pd.cut to categorize the Share of population covered by health insurance column\n",
    "africa_df['Insurance Bin'] = pd.cut(africa_df['Share of population covered by health insurance (ILO (2014))'], bins=bins, labels=labels)\n",
    "\n",
    "#group by and data aggregation\n",
    "bar_data = africa_df.groupby('Insurance Bin')['Under-five mortality (%)'].count().reset_index()\n",
    "\n",
    "#creating a barchart\n",
    "sns.barplot(data=bar_data, x='Insurance Bin', y='Under-five mortality (%)', palette=\"viridis\")\n",
    "\n",
    "#putting titles\n",
    "plt.title(\"Average Under-five Mortality Rate by Health Insurance Coverage\")\n",
    "plt.xlabel(\"Health Insurance Coverage (%)\")\n",
    "plt.ylabel(\"Under-five mortality (%)\")\n",
    "\n",
    "#showing the barchart\n",
    "plt.show()"
   ]
  },
  {
   "cell_type": "code",
   "execution_count": 78,
   "id": "a15aa9e7-6954-48a3-bf1e-51b91a9fe6f8",
   "metadata": {},
   "outputs": [
    {
     "name": "stderr",
     "output_type": "stream",
     "text": [
      "C:\\Users\\HP\\AppData\\Local\\Temp\\ipykernel_724\\2585148869.py:7: SettingWithCopyWarning: \n",
      "A value is trying to be set on a copy of a slice from a DataFrame.\n",
      "Try using .loc[row_indexer,col_indexer] = value instead\n",
      "\n",
      "See the caveats in the documentation: https://pandas.pydata.org/pandas-docs/stable/user_guide/indexing.html#returning-a-view-versus-a-copy\n",
      "  africa_df['Insurance Bin'] = pd.cut(africa_df['Share of population covered by health insurance (ILO (2014))'], bins=bins, labels=labels)\n",
      "C:\\Users\\HP\\AppData\\Local\\Temp\\ipykernel_724\\2585148869.py:10: FutureWarning: The default of observed=False is deprecated and will be changed to True in a future version of pandas. Pass observed=False to retain current behavior or observed=True to adopt the future default and silence this warning.\n",
      "  bar_data = africa_df.groupby('Insurance Bin')['Total Number of infant Death (%)'].count().reset_index()\n",
      "C:\\Users\\HP\\anaconda3\\Lib\\site-packages\\seaborn\\categorical.py:641: FutureWarning: The default of observed=False is deprecated and will be changed to True in a future version of pandas. Pass observed=False to retain current behavior or observed=True to adopt the future default and silence this warning.\n",
      "  grouped_vals = vals.groupby(grouper)\n"
     ]
    },
    {
     "data": {
      "image/png": "[encoded data removed]",
      "text/plain": [
       "<Figure size 640x480 with 1 Axes>"
      ]
     },
     "metadata": {},
     "output_type": "display_data"
    }
   ],
   "source": [
    "#impact of health insurance and total number of infant death\n",
    "#creating bins and labels for grouping of the insurance coverage data\n",
    "bins = [0, 20, 40, 60, 80, 100]\n",
    "labels = ['0-20%', '20-40%', '40-60%', '60-80%', '80-100%']\n",
    "\n",
    "#using the pd.cut to categorize the Share of population covered by health insurance column\n",
    "africa_df['Insurance Bin'] = pd.cut(africa_df['Share of population covered by health insurance (ILO (2014))'], bins=bins, labels=labels)\n",
    "\n",
    "#group by and data aggregation\n",
    "bar_data = africa_df.groupby('Insurance Bin')['Total Number of infant Death (%)'].count().reset_index()\n",
    "\n",
    "#creating the barchart\n",
    "sns.barplot(data=bar_data, x='Insurance Bin', y='Total Number of infant Death (%)', palette=\"viridis\")\n",
    "\n",
    "#putting the titles\n",
    "plt.title(\"Total number of infants death (%) vs Insurance\")\n",
    "plt.xlabel(\"Health Insurance Coverage (%)\")\n",
    "plt.ylabel(\"Total Number of infant Death (%)\")\n",
    "\n",
    "#showing the barchart\n",
    "plt.show()"
   ]
  },
  {
   "cell_type": "code",
   "execution_count": 79,
   "id": "375340e1-99e1-4d62-a7e5-9d089507ef78",
   "metadata": {},
   "outputs": [
    {
     "name": "stderr",
     "output_type": "stream",
     "text": [
      "C:\\Users\\HP\\AppData\\Local\\Temp\\ipykernel_724\\104805816.py:7: SettingWithCopyWarning: \n",
      "A value is trying to be set on a copy of a slice from a DataFrame.\n",
      "Try using .loc[row_indexer,col_indexer] = value instead\n",
      "\n",
      "See the caveats in the documentation: https://pandas.pydata.org/pandas-docs/stable/user_guide/indexing.html#returning-a-view-versus-a-copy\n",
      "  africa_df['Insurance Bin'] = pd.cut(africa_df['Share of population covered by health insurance (ILO (2014))'], bins=bins, labels=labels)\n",
      "C:\\Users\\HP\\AppData\\Local\\Temp\\ipykernel_724\\104805816.py:10: FutureWarning: The default of observed=False is deprecated and will be changed to True in a future version of pandas. Pass observed=False to retain current behavior or observed=True to adopt the future default and silence this warning.\n",
      "  bar_data = africa_df.groupby('Insurance Bin')['Under-fifteen mortality (%)',].count().reset_index()\n",
      "C:\\Users\\HP\\anaconda3\\Lib\\site-packages\\seaborn\\categorical.py:641: FutureWarning: The default of observed=False is deprecated and will be changed to True in a future version of pandas. Pass observed=False to retain current behavior or observed=True to adopt the future default and silence this warning.\n",
      "  grouped_vals = vals.groupby(grouper)\n"
     ]
    },
    {
     "data": {
      "image/png": "[encoded data removed]",
      "text/plain": [
       "<Figure size 640x480 with 1 Axes>"
      ]
     },
     "metadata": {},
     "output_type": "display_data"
    }
   ],
   "source": [
    "#impact of health insurance and under fifteen mortality rate\n",
    "#creating bins and labels for grouping of the insurance coverage data\n",
    "bins = [0, 20, 40, 60, 80, 100]\n",
    "labels = ['0-20%', '20-40%', '40-60%', '60-80%', '80-100%']\n",
    "\n",
    "#using the pd.cut to categorize the Share of population covered by health insurance column\n",
    "africa_df['Insurance Bin'] = pd.cut(africa_df['Share of population covered by health insurance (ILO (2014))'], bins=bins, labels=labels)\n",
    "\n",
    "#grouping of the required columns and aggregation\n",
    "bar_data = africa_df.groupby('Insurance Bin')['Under-fifteen mortality (%)',].count().reset_index()\n",
    "\n",
    "#creating a barchart\n",
    "sns.barplot(data=bar_data, x='Insurance Bin', y='Under-fifteen mortality (%)', palette=\"viridis\")\n",
    "\n",
    "#putting the titles\n",
    "plt.title(\"Count of Under-fifteen mortality (%)\")\n",
    "plt.xlabel(\"Health Insurance Coverage (%)\")\n",
    "plt.ylabel(\"Under-fifteen mortality (%)\")\n",
    "\n",
    "#showing the plot\n",
    "plt.show()"
   ]
  },
  {
   "cell_type": "markdown",
   "id": "981948e7-b469-47bc-a9f0-68022551c33b",
   "metadata": {},
   "source": [
    "From the above visualization for socioeconomic, we can see that the insurance has an impact on the mortality rate. Therefore, if the share of population for health insurance coverage increases, this will collectively reduce the mortality rate."
   ]
  },
  {
   "cell_type": "markdown",
   "id": "03e3a74f-023d-4051-ab72-3b9fb684013c",
   "metadata": {},
   "source": [
    "Health factors contributing to high mortality rates"
   ]
  },
  {
   "cell_type": "markdown",
   "id": "06163d29-7874-439e-94e0-2ce967a4b8f5",
   "metadata": {},
   "source": [
    "For the health factors contributing to mortality rates, will be checking for the impact of births attended by skilled health staff on mortality indicators (Under five mortality and maternal mortality)"
   ]
  },
  {
   "cell_type": "code",
   "execution_count": 80,
   "id": "1bdd7d50-a631-46c9-a2c8-62788af975f1",
   "metadata": {},
   "outputs": [
    {
     "data": {
      "image/png": "[encoded data removed]",
      "text/plain": [
       "<Figure size 600x400 with 1 Axes>"
      ]
     },
     "metadata": {},
     "output_type": "display_data"
    }
   ],
   "source": [
    "#visualization of the impact of births attended by skilled health staff on under five mortality rate\n",
    "#creating a figure for the plot\n",
    "plt.figure(figsize=(6, 4))\n",
    "\n",
    "#creating the scatter plot\n",
    "sns.scatterplot(x='Births attended by skilled health staff (% of total)', y='Under-five mortality (%)', data=africa_df)\n",
    "\n",
    "#putting labels and titles\n",
    "plt.title(\"Skilled Birth Attended vs Under-five mortality (%)\")\n",
    "plt.xlabel(\"Births attended by skilled health staff (% of total)\")\n",
    "plt.ylabel(\"Under-five mortality (%)\")\n",
    "\n",
    "#showing the plot\n",
    "plt.show()"
   ]
  },
  {
   "cell_type": "code",
   "execution_count": 81,
   "id": "2bb752df-4f94-414e-b3ce-20186d8e4a31",
   "metadata": {},
   "outputs": [
    {
     "data": {
      "image/png": "[encoded data removed]",
      "text/plain": [
       "<Figure size 600x400 with 1 Axes>"
      ]
     },
     "metadata": {},
     "output_type": "display_data"
    }
   ],
   "source": [
    "#visualization of the impact of births attended by skilled health staff on estimated maternal deaths\n",
    "#putting the figure size of the scatter plot\n",
    "plt.figure(figsize=(6, 4))\n",
    "\n",
    "#creating the scatter plot\n",
    "sns.scatterplot(x='Births attended by skilled health staff (% of total)', y='Estimated maternal death (%)', data=africa_df)\n",
    "\n",
    "#putting of labels and titles\n",
    "plt.title(\"Skilled Birth Attended vs Estimated Maternal Deaths (%)\")\n",
    "plt.xlabel(\"Births attended by skilled health staff (% of total)\")\n",
    "plt.ylabel(\"Estimated maternal death (%)\")\n",
    "\n",
    "#to show the plot\n",
    "plt.show()"
   ]
  },
  {
   "cell_type": "raw",
   "id": "4a1527be-9128-48bc-998f-b740310a794f",
   "metadata": {},
   "source": [
    "From the visualization on the impact of haelth factors on mortality rate, we can vividly see the positive impact of skilled health staffs on the rate of under five mortality rate and maternal death. As the rate of available skilled health staff increased, it greatly reduced the risk of mortality rate.\n",
    "It is advisable that locations with low skilled health staffs should therefore increase the availability of skilled health staff to reduce mortality rate"
   ]
  },
  {
   "cell_type": "markdown",
   "id": "8552baf4-f815-4ed0-91a6-23c4977a4de5",
   "metadata": {},
   "source": [
    "Environmental factors contributing to high mortality rates"
   ]
  },
  {
   "cell_type": "markdown",
   "id": "888d58b2-ac49-4c09-8412-c9233ea6a29f",
   "metadata": {},
   "source": [
    "For the environmental factors, will be using the location as an impact on the mortality indicators (Under-five mortality rate (per 100 live births), Estimated maternal deaths), Births attended by skilled health staff (% of total), vaccine coverage and cause of death."
   ]
  },
  {
   "cell_type": "code",
   "execution_count": 82,
   "id": "08f0fd85-133d-4a2a-9dac-3012a278e4d5",
   "metadata": {},
   "outputs": [
    {
     "data": {
      "image/png": "[encoded data removed]",
      "text/plain": [
       "<Figure size 800x400 with 1 Axes>"
      ]
     },
     "metadata": {},
     "output_type": "display_data"
    }
   ],
   "source": [
    "#visualization of the relationship between location and under-five mortality rate\n",
    "#putting the figure size of the plot\n",
    "plt.figure(figsize=(8, 4))\n",
    "\n",
    "#creating the bar plot\n",
    "sns.barplot(x='Location', y='Under-five mortality (%)', data=africa_df)\n",
    "\n",
    "#putting of titles and labels\n",
    "plt.title('Under-five Mortality Rate vs Location')\n",
    "plt.xlabel('Location')\n",
    "plt.ylabel('Under-five mortality (%)')\n",
    "plt.xticks(rotation=90)\n",
    "plt.tight_layout()\n",
    "\n",
    "#showing the plot\n",
    "plt.show()"
   ]
  },
  {
   "cell_type": "code",
   "execution_count": 83,
   "id": "276ac62e-d324-487f-8798-6b88f82f4922",
   "metadata": {},
   "outputs": [
    {
     "data": {
      "image/png": "[encoded data removed]",
      "text/plain": [
       "<Figure size 800x400 with 1 Axes>"
      ]
     },
     "metadata": {},
     "output_type": "display_data"
    }
   ],
   "source": [
    "#visualization of the relationship between location and births attended by skilled health staff\n",
    "#putting the figure size\n",
    "plt.figure(figsize=(8, 4))\n",
    "\n",
    "#creating the barplot\n",
    "sns.barplot(x='Location', y='Births attended by skilled health staff (% of total)', data=africa_df)\n",
    "\n",
    "#putting the titles\n",
    "plt.title('Skilled Health Staff vs Location')\n",
    "plt.xlabel('Location')\n",
    "plt.ylabel('Births attended by skilled health staff (% of total)')\n",
    "plt.xticks(rotation=90)\n",
    "plt.tight_layout()\n",
    "\n",
    "#showing the plot\n",
    "plt.show()"
   ]
  },
  {
   "cell_type": "code",
   "execution_count": 84,
   "id": "6b13df8b-3a07-47a7-87b2-f67cd3880e15",
   "metadata": {},
   "outputs": [
    {
     "data": {
      "image/png": "[encoded data removed]",
      "text/plain": [
       "<Figure size 800x400 with 1 Axes>"
      ]
     },
     "metadata": {},
     "output_type": "display_data"
    }
   ],
   "source": [
    "#visualization of the relationship between location and estimated maternal death\n",
    "#creating the plot size\n",
    "plt.figure(figsize=(8, 4))\n",
    "\n",
    "#creating the bar plot\n",
    "sns.barplot(x='Location', y='Estimated maternal death (%)', data=africa_df)\n",
    "\n",
    "#creating/putting the titles\n",
    "plt.title('Estimated maternal death (%) vs Location')\n",
    "plt.xlabel('Location')\n",
    "plt.ylabel('Estimated maternal death (%)')\n",
    "plt.xticks(rotation=90)\n",
    "plt.tight_layout()\n",
    "\n",
    "#showing the plot\n",
    "plt.show()"
   ]
  },
  {
   "cell_type": "code",
   "execution_count": 85,
   "id": "cc0912b9-da6d-43dd-a8bf-b867894efef3",
   "metadata": {},
   "outputs": [
    {
     "data": {
      "image/png": "[encoded data removed]",
      "text/plain": [
       "<Figure size 2000x800 with 1 Axes>"
      ]
     },
     "metadata": {},
     "output_type": "display_data"
    }
   ],
   "source": [
    "#visualization of the relationship between location and percentage of one year olds immunized\n",
    "#assigning a variable to the columns that has to do with immunization\n",
    "vaccines = ['BCG (% of one-year-olds immunized)',\n",
    "            'HepB3 (% of one-year-olds immunized)',\n",
    "            'MCV1 (% of one-year-olds immunized)',\n",
    "            'Pol3 (% of one-year-olds immunized)',\n",
    "            'DTP3 (% of one-year-olds immunized)']\n",
    "\n",
    "#reshaping of the dataframe from a wide format into a more distinct long format\n",
    "long_df = africa_df.melt(id_vars=['Location'], value_vars=vaccines, var_name='Vaccine', value_name='Coverage')\n",
    "\n",
    "#creating a figure size\n",
    "plt.figure(figsize=(20, 8))\n",
    "\n",
    "#creating the bar plot\n",
    "sns.barplot(x='Location', y='Coverage', hue='Vaccine', data=long_df)\n",
    "\n",
    "#putting the titles and customizing\n",
    "plt.title('Grouped Bar Chart of Immunization Coverage by Vaccine and Location')\n",
    "plt.xlabel('Location')\n",
    "plt.ylabel('Immunization Coverage (%)')\n",
    "plt.xticks(rotation=90)\n",
    "plt.legend(title='Vaccine', bbox_to_anchor=(1.05, 1), loc='upper left')\n",
    "plt.tight_layout()\n",
    "\n",
    "#showing the plot\n",
    "plt.show()"
   ]
  },
  {
   "cell_type": "code",
   "execution_count": 86,
   "id": "99482c01-e19a-4dd5-a7c2-ec690b11e43a",
   "metadata": {},
   "outputs": [
    {
     "data": {
      "image/png": "[encoded data removed]",
      "text/plain": [
       "<Figure size 800x400 with 1 Axes>"
      ]
     },
     "metadata": {},
     "output_type": "display_data"
    }
   ],
   "source": [
    "#visualization of the impact of location on the vaccine coverage\n",
    "#the variables in the cause of death was split into two set for better and clearer visualization\n",
    "\n",
    "#creating a list for the first set of cause of death\n",
    "disease_1 = ['Other communicable, perinatal and nutritional conditions'\n",
    "            'Other noncommunicable diseases', 'Injuries', 'HIV/AIDS',\n",
    "            'Diarrhoeal diseases', 'Tetanus', 'Measles'] \n",
    "\n",
    "#filtering of the list of disease_1 from the cause of death column\n",
    "filtered_disease1 = africa_df[africa_df['Cause of Death'].isin(disease_1)]\n",
    "\n",
    "#creating a figure size\n",
    "plt.figure(figsize=(8, 4))\n",
    "\n",
    "#creating the bar plot\n",
    "sns.barplot(x='Location', y='Under-five mortality (%)', hue='Cause of Death', data=filtered_disease1)\n",
    "\n",
    "#addition of titles and labels\n",
    "plt.title('Cause of Death by Location for under five mortality rate set 1')\n",
    "plt.xlabel('Location')\n",
    "plt.ylabel('Under-five mortality (%)')\n",
    "plt.xticks(rotation=90)\n",
    "plt.legend(title='Cause of Death', bbox_to_anchor=(1.05, 1), loc='upper left')\n",
    "\n",
    "#showing of the plot\n",
    "plt.show()"
   ]
  },
  {
   "cell_type": "code",
   "execution_count": 87,
   "id": "217701f2-f156-48e8-9a6e-5e3f9529b550",
   "metadata": {},
   "outputs": [
    {
     "data": {
      "image/png": "[encoded data removed]",
      "text/plain": [
       "<Figure size 800x400 with 1 Axes>"
      ]
     },
     "metadata": {},
     "output_type": "display_data"
    }
   ],
   "source": [
    "#creating a list for the second set of cause of death\n",
    "disease_2 = ['Meningitis/encephalitis', 'Malaria', 'Prematurity',\n",
    "            'Birth asphyxia and birth trauma', 'Congenital anomalies'\n",
    "            'Sepsis and other infectious conditions of the newborn', \n",
    "            'Acute lower respiratory infections'] \n",
    "\n",
    "#filtering of the list of disease_2 from the cause of death column\n",
    "filtered_disease2 = africa_df[africa_df['Cause of Death'].isin(disease_2)]\n",
    "\n",
    "#creating the grouped bar chart\n",
    "plt.figure(figsize=(8, 4))\n",
    "sns.barplot(x='Location', y='Under-five mortality (%)', hue='Cause of Death', data=filtered_disease2)\n",
    "\n",
    "#titles and labels addition\n",
    "plt.title('Cause of Death by Location for under five mortality rate set 2')\n",
    "plt.xlabel('Location')\n",
    "plt.ylabel('Under-five mortality (%)')\n",
    "plt.xticks(rotation=90)\n",
    "plt.legend(title='Cause of Death', bbox_to_anchor=(1.05, 1), loc='upper left')\n",
    "\n",
    "#showing the plot\n",
    "plt.show()"
   ]
  },
  {
   "cell_type": "code",
   "execution_count": 88,
   "id": "7e44c5ac-76c7-48ac-b0a5-939f3f9da7b8",
   "metadata": {},
   "outputs": [
    {
     "data": {
      "image/png": "[encoded data removed]",
      "text/plain": [
       "<Figure size 800x400 with 1 Axes>"
      ]
     },
     "metadata": {},
     "output_type": "display_data"
    }
   ],
   "source": [
    "#creating of the figure size\n",
    "plt.figure(figsize=(8, 4))\n",
    "\n",
    "#creating of the bar plot\n",
    "sns.barplot(x='Location', y='Share of population covered by health insurance (ILO (2014))', data=africa_df, palette='viridis')\n",
    "\n",
    "#addition of titles and labels\n",
    "plt.title('Insurance Coverage by Location', fontsize=14)\n",
    "plt.xlabel('Location')\n",
    "plt.ylabel('Percentage of Population Covered by Health Insurance')\n",
    "plt.xticks(rotation=90)\n",
    "plt.tight_layout()\n",
    "\n",
    "#showing of the plot\n",
    "plt.show()"
   ]
  },
  {
   "cell_type": "code",
   "execution_count": 89,
   "id": "8a31fc70-5688-4fe5-9175-1d6063881874",
   "metadata": {},
   "outputs": [
    {
     "data": {
      "image/png": "[encoded data removed]",
      "text/plain": [
       "<Figure size 600x400 with 1 Axes>"
      ]
     },
     "metadata": {},
     "output_type": "display_data"
    }
   ],
   "source": [
    "#mortality indicator comparism (under five mortality, estimated maternal death and total number of infant death) with the location\n",
    "#grouping of the location\n",
    "location_mortality = africa_df.groupby('Location')[['Under-five mortality (%)', 'Estimated maternal death (%)', \n",
    "                                                    'Total Number of infant Death (%)']].mean()\n",
    "\n",
    "#using the reset index to convert it to a standard dataframe and round up the figures to 2decimals\n",
    "location_mortality_reset = location_mortality.reset_index().round(2)\n",
    "\n",
    "#creating a figure\n",
    "fig, ax = plt.subplots(figsize=(6, 4))\n",
    "\n",
    "#removing/turning off the axes for a better table visualization\n",
    "ax.axis('off') \n",
    "\n",
    "#using Matplotlib to create a table\n",
    "table = plt.table(cellText=location_mortality_reset.values, colLabels=location_mortality_reset.columns,  loc='center', cellLoc='center')\n",
    "\n",
    "#setting the table style\n",
    "table.auto_set_font_size(False)\n",
    "table.set_fontsize(10)\n",
    "table.auto_set_column_width(col=list(range(len(location_mortality_reset.columns))))\n",
    "\n",
    "#adding of titles \n",
    "plt.title(\"Comparison of Mortality Rates with Location\", fontsize=14, pad=20)\n",
    "\n",
    "#show the table\n",
    "plt.show()"
   ]
  },
  {
   "cell_type": "markdown",
   "id": "6fbfaabd-401f-4234-b51e-8a4db141c894",
   "metadata": {},
   "source": [
    "For the environmental factors, using the location as an impact on the mortality indicators (Under-five mortality rate (per 100 live births), Estimated maternal deaths), Births attended by skilled health staff (% of total), vaccine coverage and cause of death, it can be seen that for under five mortality, Mauritius had the least rate of mortality while Sierra Leone and Nigeria had the highest rate. Mauritius also had the highest value for skilled health staff and vaccine administration while Nigeria and Burkina Faso recorded the least for skilled health staff and vaccine administration this could be due to low man power in the health sector, lack of the importance on the administration of vaccine to mothers and could also be due to the low insurance coverage."
   ]
  },
  {
   "cell_type": "markdown",
   "id": "e12d446a-7978-4c38-a394-c31c42029a83",
   "metadata": {},
   "source": [
    "2. Propose actionable recommendations to address gaps in vaccination coverage, healthcare access, and maternal support."
   ]
  },
  {
   "cell_type": "markdown",
   "id": "27421e6a-466c-49b1-adac-cfd36428d923",
   "metadata": {},
   "source": [
    "Vaccination coverage"
   ]
  },
  {
   "cell_type": "markdown",
   "id": "7202df8a-a17e-4e06-9ef1-4b9dda3e740e",
   "metadata": {},
   "source": [
    "1. Educational campaign through effective coummunication system on the importance of vaccination should be set up.\n",
    "2. Vaccine supply should be improved which could involve the use of cold chain logistics for preservation of vaccine and the use of mobile clinic to get to remote areas"
   ]
  },
  {
   "cell_type": "markdown",
   "id": "30a33314-bc3c-4922-a7b2-57c0bce7f793",
   "metadata": {},
   "source": [
    "Healthcare access"
   ]
  },
  {
   "cell_type": "markdown",
   "id": "52977aca-4ab7-456f-9762-b76e1c791c35",
   "metadata": {},
   "source": [
    "1. Build and equip health facilities and ensure availability in rural areas.\n",
    "2. There should be more training of health staff and continuous learning should be enforced on skilled health staffs such as seminar, workshop, presentation."
   ]
  },
  {
   "cell_type": "markdown",
   "id": "3fafe5a2-11ed-4ea2-a571-bc35f69023a3",
   "metadata": {},
   "source": [
    "Maternal support"
   ]
  },
  {
   "cell_type": "markdown",
   "id": "3ea6a397-0490-4309-91f6-c0dd0ade87d7",
   "metadata": {},
   "source": [
    "1. Provide efficient transport system to transport pregnant woment from homes to hospital.\n",
    "2. Provide free essential medicine which are important to pregnant women and for the proper development of the unborn children"
   ]
  },
  {
   "cell_type": "markdown",
   "id": "4bcf5df0-73d0-4373-9e41-c7e7b5416d34",
   "metadata": {},
   "source": [
    "3. Present insights in a format that is accessible to policymakers and stakeholders"
   ]
  },
  {
   "cell_type": "markdown",
   "id": "bee8e7b0-6fbe-421e-87e6-c31acad6ea6e",
   "metadata": {},
   "source": [
    "Vaccination coverage\n",
    "1. Mobile vaccination units should be deployed inorder to reach remote areas\n",
    "2. Provision of incentives for vaccination in order to encourage parents to bring their children for vaccination\n",
    "3. Insightful educational campaigns on the importance of vaccination\n",
    "\n",
    "Healthcare Access\n",
    "1. Provide virtual healthcare consultations for remote communities.\n",
    "2. Invest in affordable digital health platforms.\n",
    "3. Build and Staff Primary Healthcare Centers (PHCs)\n",
    "4. Introduce Subsidized Health Insurance\n",
    "\n",
    "Maternal support\n",
    "1. Government should increase the annual budget allocation on health care sector\n",
    "2. Enforce nutrition and maternal health programs\n",
    "3. Advocate for paid maternity leave to support working mothers and promote workplace flexibility for postnatal recovery\n",
    "4. Provide follow-up care for mothers and newborns and include mental health support and newborn assessments."
   ]
  },
  {
   "cell_type": "markdown",
   "id": "c2da7fb7-2080-4399-ae21-8d4799ac97a3",
   "metadata": {},
   "source": [
    "Limitations"
   ]
  },
  {
   "cell_type": "markdown",
   "id": "095e312e-a4f3-49ee-8012-3be1593985cf",
   "metadata": {},
   "source": [
    "1. Lack of Environmental Data in the Dataset\n",
    "The dataset does not explicitly include environmental factors such as access to clean water, air quality, or food security, which are very important in understanding child and infant mortality. This limits the ability to draw robust conclusions about environmental influences.\n",
    "\n",
    "2. Socioeconomic factors like income level, poverty rate, which are potentially significant drivers of mortality were not included in the dataset. This resulted in a limited analysis of the impact of socio economic factors on the mortality rate."
   ]
  },
  {
   "cell_type": "markdown",
   "id": "3b3598f2-87fe-4725-9ad4-09fd712c8e1f",
   "metadata": {},
   "source": [
    "Acknowlwdgement\n",
    "I am eternally grateful to Almighty God for His guidance and grace throughout this journey. \n",
    "My deepest appreciation goes to the anchors of this internship, Regonet, for providing such a conducive environment for learning. \n",
    "I extend my heartfelt thanks to my tutor, Mr. Dada Dayo, for his relentless support, invaluable knowledge, and encouragement. \n",
    "Finally, my profound gratitude goes to my unwavering support system, Peace Ejimbe-Odjegba, for her constant motivation and encouragement, especially during this project."
   ]
  }
 ],
 "metadata": {
  "kernelspec": {
   "display_name": "Python 3 (ipykernel)",
   "language": "python",
   "name": "python3"
  },
  "language_info": {
   "codemirror_mode": {
    "name": "ipython",
    "version": 3
   },
   "file_extension": ".py",
   "mimetype": "text/x-python",
   "name": "python",
   "nbconvert_exporter": "python",
   "pygments_lexer": "ipython3",
   "version": "3.11.7"
  }
 },
 "nbformat": 4,
 "nbformat_minor": 5
}
